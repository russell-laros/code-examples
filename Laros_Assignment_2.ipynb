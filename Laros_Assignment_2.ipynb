{
 "cells": [
  {
   "cell_type": "code",
   "execution_count": 1,
   "id": "2eccccd3",
   "metadata": {},
   "outputs": [],
   "source": [
    "import pandas as pd\n",
    "import numpy as np\n",
    "import sklearn"
   ]
  },
  {
   "cell_type": "markdown",
   "id": "78e595f0",
   "metadata": {},
   "source": [
    "# Pat 1 - Segmentation"
   ]
  },
  {
   "cell_type": "code",
   "execution_count": 2,
   "id": "1edaa25d",
   "metadata": {},
   "outputs": [],
   "source": [
    "lobsterland = pd.read_csv(\"lobsterland_2020.csv\")"
   ]
  },
  {
   "cell_type": "code",
   "execution_count": 3,
   "id": "1d3c23bb",
   "metadata": {},
   "outputs": [
    {
     "data": {
      "text/html": [
       "<div>\n",
       "<style scoped>\n",
       "    .dataframe tbody tr th:only-of-type {\n",
       "        vertical-align: middle;\n",
       "    }\n",
       "\n",
       "    .dataframe tbody tr th {\n",
       "        vertical-align: top;\n",
       "    }\n",
       "\n",
       "    .dataframe thead th {\n",
       "        text-align: right;\n",
       "    }\n",
       "</style>\n",
       "<table border=\"1\" class=\"dataframe\">\n",
       "  <thead>\n",
       "    <tr style=\"text-align: right;\">\n",
       "      <th></th>\n",
       "      <th>householdID</th>\n",
       "      <th>consec_years</th>\n",
       "      <th>dist_park</th>\n",
       "      <th>visits_2019</th>\n",
       "      <th>online_merch_since19</th>\n",
       "      <th>household_pax</th>\n",
       "      <th>est_inc</th>\n",
       "      <th>youngest</th>\n",
       "      <th>openrate</th>\n",
       "      <th>homestate</th>\n",
       "    </tr>\n",
       "  </thead>\n",
       "  <tbody>\n",
       "    <tr>\n",
       "      <th>0</th>\n",
       "      <td>1</td>\n",
       "      <td>11</td>\n",
       "      <td>111.45</td>\n",
       "      <td>8</td>\n",
       "      <td>63.18</td>\n",
       "      <td>1</td>\n",
       "      <td>213985</td>\n",
       "      <td>25</td>\n",
       "      <td>17</td>\n",
       "      <td>Massachusetts</td>\n",
       "    </tr>\n",
       "    <tr>\n",
       "      <th>1</th>\n",
       "      <td>2</td>\n",
       "      <td>9</td>\n",
       "      <td>98.36</td>\n",
       "      <td>11</td>\n",
       "      <td>59.46</td>\n",
       "      <td>3</td>\n",
       "      <td>152140</td>\n",
       "      <td>8</td>\n",
       "      <td>14</td>\n",
       "      <td>New Hampshire</td>\n",
       "    </tr>\n",
       "    <tr>\n",
       "      <th>2</th>\n",
       "      <td>3</td>\n",
       "      <td>6</td>\n",
       "      <td>90.70</td>\n",
       "      <td>10</td>\n",
       "      <td>29.00</td>\n",
       "      <td>2</td>\n",
       "      <td>117290</td>\n",
       "      <td>10</td>\n",
       "      <td>19</td>\n",
       "      <td>New Hampshire</td>\n",
       "    </tr>\n",
       "    <tr>\n",
       "      <th>3</th>\n",
       "      <td>4</td>\n",
       "      <td>4</td>\n",
       "      <td>77.90</td>\n",
       "      <td>17</td>\n",
       "      <td>50.12</td>\n",
       "      <td>4</td>\n",
       "      <td>69855</td>\n",
       "      <td>9</td>\n",
       "      <td>20</td>\n",
       "      <td>New Hampshire</td>\n",
       "    </tr>\n",
       "    <tr>\n",
       "      <th>4</th>\n",
       "      <td>5</td>\n",
       "      <td>10</td>\n",
       "      <td>76.82</td>\n",
       "      <td>10</td>\n",
       "      <td>43.14</td>\n",
       "      <td>3</td>\n",
       "      <td>150473</td>\n",
       "      <td>9</td>\n",
       "      <td>22</td>\n",
       "      <td>New Hampshire</td>\n",
       "    </tr>\n",
       "  </tbody>\n",
       "</table>\n",
       "</div>"
      ],
      "text/plain": [
       "   householdID  consec_years  dist_park  visits_2019  online_merch_since19  \\\n",
       "0            1            11     111.45            8                 63.18   \n",
       "1            2             9      98.36           11                 59.46   \n",
       "2            3             6      90.70           10                 29.00   \n",
       "3            4             4      77.90           17                 50.12   \n",
       "4            5            10      76.82           10                 43.14   \n",
       "\n",
       "   household_pax  est_inc  youngest  openrate      homestate  \n",
       "0              1   213985        25        17  Massachusetts  \n",
       "1              3   152140         8        14  New Hampshire  \n",
       "2              2   117290        10        19  New Hampshire  \n",
       "3              4    69855         9        20  New Hampshire  \n",
       "4              3   150473         9        22  New Hampshire  "
      ]
     },
     "execution_count": 3,
     "metadata": {},
     "output_type": "execute_result"
    }
   ],
   "source": [
    "comeback = pd.read_csv(\"comeback.csv\")\n",
    "comeback.head()"
   ]
  },
  {
   "cell_type": "markdown",
   "id": "cf8d6b42",
   "metadata": {},
   "source": [
    "A. The ID does not contain any relevent information that can tell us anything about the customers. Therefore, it won't add anything to the clustering model."
   ]
  },
  {
   "cell_type": "code",
   "execution_count": 4,
   "id": "2693e339",
   "metadata": {},
   "outputs": [
    {
     "data": {
      "text/html": [
       "<div>\n",
       "<style scoped>\n",
       "    .dataframe tbody tr th:only-of-type {\n",
       "        vertical-align: middle;\n",
       "    }\n",
       "\n",
       "    .dataframe tbody tr th {\n",
       "        vertical-align: top;\n",
       "    }\n",
       "\n",
       "    .dataframe thead th {\n",
       "        text-align: right;\n",
       "    }\n",
       "</style>\n",
       "<table border=\"1\" class=\"dataframe\">\n",
       "  <thead>\n",
       "    <tr style=\"text-align: right;\">\n",
       "      <th></th>\n",
       "      <th>consec_years</th>\n",
       "      <th>dist_park</th>\n",
       "      <th>visits_2019</th>\n",
       "      <th>online_merch_since19</th>\n",
       "      <th>household_pax</th>\n",
       "      <th>est_inc</th>\n",
       "      <th>youngest</th>\n",
       "      <th>openrate</th>\n",
       "      <th>homestate</th>\n",
       "    </tr>\n",
       "  </thead>\n",
       "  <tbody>\n",
       "    <tr>\n",
       "      <th>0</th>\n",
       "      <td>11</td>\n",
       "      <td>111.45</td>\n",
       "      <td>8</td>\n",
       "      <td>63.18</td>\n",
       "      <td>1</td>\n",
       "      <td>213985</td>\n",
       "      <td>25</td>\n",
       "      <td>17</td>\n",
       "      <td>Massachusetts</td>\n",
       "    </tr>\n",
       "    <tr>\n",
       "      <th>1</th>\n",
       "      <td>9</td>\n",
       "      <td>98.36</td>\n",
       "      <td>11</td>\n",
       "      <td>59.46</td>\n",
       "      <td>3</td>\n",
       "      <td>152140</td>\n",
       "      <td>8</td>\n",
       "      <td>14</td>\n",
       "      <td>New Hampshire</td>\n",
       "    </tr>\n",
       "    <tr>\n",
       "      <th>2</th>\n",
       "      <td>6</td>\n",
       "      <td>90.70</td>\n",
       "      <td>10</td>\n",
       "      <td>29.00</td>\n",
       "      <td>2</td>\n",
       "      <td>117290</td>\n",
       "      <td>10</td>\n",
       "      <td>19</td>\n",
       "      <td>New Hampshire</td>\n",
       "    </tr>\n",
       "    <tr>\n",
       "      <th>3</th>\n",
       "      <td>4</td>\n",
       "      <td>77.90</td>\n",
       "      <td>17</td>\n",
       "      <td>50.12</td>\n",
       "      <td>4</td>\n",
       "      <td>69855</td>\n",
       "      <td>9</td>\n",
       "      <td>20</td>\n",
       "      <td>New Hampshire</td>\n",
       "    </tr>\n",
       "    <tr>\n",
       "      <th>4</th>\n",
       "      <td>10</td>\n",
       "      <td>76.82</td>\n",
       "      <td>10</td>\n",
       "      <td>43.14</td>\n",
       "      <td>3</td>\n",
       "      <td>150473</td>\n",
       "      <td>9</td>\n",
       "      <td>22</td>\n",
       "      <td>New Hampshire</td>\n",
       "    </tr>\n",
       "  </tbody>\n",
       "</table>\n",
       "</div>"
      ],
      "text/plain": [
       "   consec_years  dist_park  visits_2019  online_merch_since19  household_pax  \\\n",
       "0            11     111.45            8                 63.18              1   \n",
       "1             9      98.36           11                 59.46              3   \n",
       "2             6      90.70           10                 29.00              2   \n",
       "3             4      77.90           17                 50.12              4   \n",
       "4            10      76.82           10                 43.14              3   \n",
       "\n",
       "   est_inc  youngest  openrate      homestate  \n",
       "0   213985        25        17  Massachusetts  \n",
       "1   152140         8        14  New Hampshire  \n",
       "2   117290        10        19  New Hampshire  \n",
       "3    69855         9        20  New Hampshire  \n",
       "4   150473         9        22  New Hampshire  "
      ]
     },
     "execution_count": 4,
     "metadata": {},
     "output_type": "execute_result"
    }
   ],
   "source": [
    "comeback = comeback.drop(['householdID'],axis = 1)\n",
    "comeback.head()"
   ]
  },
  {
   "attachments": {},
   "cell_type": "markdown",
   "id": "0046570e",
   "metadata": {},
   "source": [
    "B. The describe function shows us the important summary statistics for each column. This lets us understand what the overall distributions of data are in each column. It will give the the analyst a better understanding of which columns to focus on, or which columns are similar. Both of which can be important when building a model."
   ]
  },
  {
   "cell_type": "code",
   "execution_count": 5,
   "id": "877aa75b",
   "metadata": {},
   "outputs": [
    {
     "data": {
      "text/html": [
       "<div>\n",
       "<style scoped>\n",
       "    .dataframe tbody tr th:only-of-type {\n",
       "        vertical-align: middle;\n",
       "    }\n",
       "\n",
       "    .dataframe tbody tr th {\n",
       "        vertical-align: top;\n",
       "    }\n",
       "\n",
       "    .dataframe thead th {\n",
       "        text-align: right;\n",
       "    }\n",
       "</style>\n",
       "<table border=\"1\" class=\"dataframe\">\n",
       "  <thead>\n",
       "    <tr style=\"text-align: right;\">\n",
       "      <th></th>\n",
       "      <th>consec_years</th>\n",
       "      <th>dist_park</th>\n",
       "      <th>visits_2019</th>\n",
       "      <th>online_merch_since19</th>\n",
       "      <th>household_pax</th>\n",
       "      <th>est_inc</th>\n",
       "      <th>youngest</th>\n",
       "      <th>openrate</th>\n",
       "    </tr>\n",
       "  </thead>\n",
       "  <tbody>\n",
       "    <tr>\n",
       "      <th>count</th>\n",
       "      <td>580.000000</td>\n",
       "      <td>580.000000</td>\n",
       "      <td>580.000000</td>\n",
       "      <td>580.000000</td>\n",
       "      <td>580.000000</td>\n",
       "      <td>580.000000</td>\n",
       "      <td>580.000000</td>\n",
       "      <td>580.000000</td>\n",
       "    </tr>\n",
       "    <tr>\n",
       "      <th>mean</th>\n",
       "      <td>8.512069</td>\n",
       "      <td>86.156914</td>\n",
       "      <td>12.186207</td>\n",
       "      <td>48.990259</td>\n",
       "      <td>2.631034</td>\n",
       "      <td>136389.822414</td>\n",
       "      <td>13.334483</td>\n",
       "      <td>20.189655</td>\n",
       "    </tr>\n",
       "    <tr>\n",
       "      <th>std</th>\n",
       "      <td>2.627382</td>\n",
       "      <td>19.483731</td>\n",
       "      <td>3.418908</td>\n",
       "      <td>12.637207</td>\n",
       "      <td>0.852753</td>\n",
       "      <td>29485.806498</td>\n",
       "      <td>3.323416</td>\n",
       "      <td>3.523211</td>\n",
       "    </tr>\n",
       "    <tr>\n",
       "      <th>min</th>\n",
       "      <td>1.000000</td>\n",
       "      <td>25.900000</td>\n",
       "      <td>0.000000</td>\n",
       "      <td>20.000000</td>\n",
       "      <td>1.000000</td>\n",
       "      <td>16470.000000</td>\n",
       "      <td>5.000000</td>\n",
       "      <td>11.000000</td>\n",
       "    </tr>\n",
       "    <tr>\n",
       "      <th>25%</th>\n",
       "      <td>7.000000</td>\n",
       "      <td>73.355000</td>\n",
       "      <td>10.000000</td>\n",
       "      <td>39.235000</td>\n",
       "      <td>2.000000</td>\n",
       "      <td>116792.750000</td>\n",
       "      <td>11.000000</td>\n",
       "      <td>18.000000</td>\n",
       "    </tr>\n",
       "    <tr>\n",
       "      <th>50%</th>\n",
       "      <td>9.000000</td>\n",
       "      <td>86.300000</td>\n",
       "      <td>12.000000</td>\n",
       "      <td>47.525000</td>\n",
       "      <td>3.000000</td>\n",
       "      <td>135626.500000</td>\n",
       "      <td>13.000000</td>\n",
       "      <td>20.000000</td>\n",
       "    </tr>\n",
       "    <tr>\n",
       "      <th>75%</th>\n",
       "      <td>10.000000</td>\n",
       "      <td>99.110000</td>\n",
       "      <td>15.000000</td>\n",
       "      <td>56.612500</td>\n",
       "      <td>3.000000</td>\n",
       "      <td>157771.000000</td>\n",
       "      <td>15.000000</td>\n",
       "      <td>22.000000</td>\n",
       "    </tr>\n",
       "    <tr>\n",
       "      <th>max</th>\n",
       "      <td>17.000000</td>\n",
       "      <td>145.850000</td>\n",
       "      <td>22.000000</td>\n",
       "      <td>91.880000</td>\n",
       "      <td>5.000000</td>\n",
       "      <td>213985.000000</td>\n",
       "      <td>27.000000</td>\n",
       "      <td>34.000000</td>\n",
       "    </tr>\n",
       "  </tbody>\n",
       "</table>\n",
       "</div>"
      ],
      "text/plain": [
       "       consec_years   dist_park  visits_2019  online_merch_since19  \\\n",
       "count    580.000000  580.000000   580.000000            580.000000   \n",
       "mean       8.512069   86.156914    12.186207             48.990259   \n",
       "std        2.627382   19.483731     3.418908             12.637207   \n",
       "min        1.000000   25.900000     0.000000             20.000000   \n",
       "25%        7.000000   73.355000    10.000000             39.235000   \n",
       "50%        9.000000   86.300000    12.000000             47.525000   \n",
       "75%       10.000000   99.110000    15.000000             56.612500   \n",
       "max       17.000000  145.850000    22.000000             91.880000   \n",
       "\n",
       "       household_pax        est_inc    youngest    openrate  \n",
       "count     580.000000     580.000000  580.000000  580.000000  \n",
       "mean        2.631034  136389.822414   13.334483   20.189655  \n",
       "std         0.852753   29485.806498    3.323416    3.523211  \n",
       "min         1.000000   16470.000000    5.000000   11.000000  \n",
       "25%         2.000000  116792.750000   11.000000   18.000000  \n",
       "50%         3.000000  135626.500000   13.000000   20.000000  \n",
       "75%         3.000000  157771.000000   15.000000   22.000000  \n",
       "max         5.000000  213985.000000   27.000000   34.000000  "
      ]
     },
     "execution_count": 5,
     "metadata": {},
     "output_type": "execute_result"
    }
   ],
   "source": [
    "comeback.describe()"
   ]
  },
  {
   "cell_type": "markdown",
   "id": "e4223044",
   "metadata": {},
   "source": [
    "C.\n",
    "Visits_2019 and Online_merch_since19: The amount of visits since 2019 and the amount of online merchandise bought are correlated. This would make sense because customers that are likely to open the emails probably are likely to care about and like lobsterland, this makes them more likely to also go to the park. The emails also could contain park ticket promotions, which could likely make these variables correlated.\n",
    "\n",
    "Online_merch_since19 and openrate: Similarly to above, people that open the emails are likely to have enjoyed their experience at lobster land and want to remember it. These people are liekly to buy online merchandise, and/or be more susceptible to online shopping promotions that are inside the emails."
   ]
  },
  {
   "cell_type": "code",
   "execution_count": 6,
   "id": "cea58f2f",
   "metadata": {},
   "outputs": [],
   "source": [
    "import seaborn as sn"
   ]
  },
  {
   "cell_type": "code",
   "execution_count": 7,
   "id": "44e662b3",
   "metadata": {},
   "outputs": [],
   "source": [
    "comeback = comeback.drop(['homestate'],axis = 1)"
   ]
  },
  {
   "cell_type": "code",
   "execution_count": 8,
   "id": "7c24cb77",
   "metadata": {},
   "outputs": [
    {
     "data": {
      "image/png": "[encoded data removed]",
      "text/plain": [
       "<Figure size 432x288 with 2 Axes>"
      ]
     },
     "metadata": {
      "needs_background": "light"
     },
     "output_type": "display_data"
    }
   ],
   "source": [
    "comeback_cors = comeback.corr()\n",
    "hm = sn.heatmap(data = comeback_cors,\n",
    "                annot = True,\n",
    "                cmap=\"coolwarm\")"
   ]
  },
  {
   "cell_type": "markdown",
   "id": "dba78610",
   "metadata": {},
   "source": [
    "D. Yes, because they have highly variable means and standard deviations. This could skew the data. Standardizing will help imprive the accuracy of the model."
   ]
  },
  {
   "cell_type": "code",
   "execution_count": 9,
   "id": "0ee92c22",
   "metadata": {},
   "outputs": [
    {
     "data": {
      "text/html": [
       "<div>\n",
       "<style scoped>\n",
       "    .dataframe tbody tr th:only-of-type {\n",
       "        vertical-align: middle;\n",
       "    }\n",
       "\n",
       "    .dataframe tbody tr th {\n",
       "        vertical-align: top;\n",
       "    }\n",
       "\n",
       "    .dataframe thead th {\n",
       "        text-align: right;\n",
       "    }\n",
       "</style>\n",
       "<table border=\"1\" class=\"dataframe\">\n",
       "  <thead>\n",
       "    <tr style=\"text-align: right;\">\n",
       "      <th></th>\n",
       "      <th>consec_years</th>\n",
       "      <th>dist_park</th>\n",
       "      <th>visits_2019</th>\n",
       "      <th>online_merch_since19</th>\n",
       "      <th>household_pax</th>\n",
       "      <th>est_inc</th>\n",
       "      <th>youngest</th>\n",
       "      <th>openrate</th>\n",
       "    </tr>\n",
       "  </thead>\n",
       "  <tbody>\n",
       "    <tr>\n",
       "      <th>0</th>\n",
       "      <td>0.947741</td>\n",
       "      <td>1.299285</td>\n",
       "      <td>-1.225485</td>\n",
       "      <td>1.123823</td>\n",
       "      <td>-1.914321</td>\n",
       "      <td>2.633883</td>\n",
       "      <td>3.513128</td>\n",
       "      <td>-0.906108</td>\n",
       "    </tr>\n",
       "    <tr>\n",
       "      <th>1</th>\n",
       "      <td>0.185870</td>\n",
       "      <td>0.626862</td>\n",
       "      <td>-0.347254</td>\n",
       "      <td>0.829201</td>\n",
       "      <td>0.433049</td>\n",
       "      <td>0.534622</td>\n",
       "      <td>-1.606506</td>\n",
       "      <td>-1.758338</td>\n",
       "    </tr>\n",
       "    <tr>\n",
       "      <th>2</th>\n",
       "      <td>-0.956936</td>\n",
       "      <td>0.233375</td>\n",
       "      <td>-0.639998</td>\n",
       "      <td>-1.583223</td>\n",
       "      <td>-0.740636</td>\n",
       "      <td>-0.648322</td>\n",
       "      <td>-1.004196</td>\n",
       "      <td>-0.337954</td>\n",
       "    </tr>\n",
       "    <tr>\n",
       "      <th>3</th>\n",
       "      <td>-1.718808</td>\n",
       "      <td>-0.424151</td>\n",
       "      <td>1.409207</td>\n",
       "      <td>0.089475</td>\n",
       "      <td>1.606734</td>\n",
       "      <td>-2.258451</td>\n",
       "      <td>-1.305351</td>\n",
       "      <td>-0.053877</td>\n",
       "    </tr>\n",
       "    <tr>\n",
       "      <th>4</th>\n",
       "      <td>0.566806</td>\n",
       "      <td>-0.479630</td>\n",
       "      <td>-0.639998</td>\n",
       "      <td>-0.463339</td>\n",
       "      <td>0.433049</td>\n",
       "      <td>0.478038</td>\n",
       "      <td>-1.305351</td>\n",
       "      <td>0.514277</td>\n",
       "    </tr>\n",
       "    <tr>\n",
       "      <th>...</th>\n",
       "      <td>...</td>\n",
       "      <td>...</td>\n",
       "      <td>...</td>\n",
       "      <td>...</td>\n",
       "      <td>...</td>\n",
       "      <td>...</td>\n",
       "      <td>...</td>\n",
       "      <td>...</td>\n",
       "    </tr>\n",
       "    <tr>\n",
       "      <th>575</th>\n",
       "      <td>0.185870</td>\n",
       "      <td>-0.499150</td>\n",
       "      <td>0.238233</td>\n",
       "      <td>-0.347707</td>\n",
       "      <td>0.433049</td>\n",
       "      <td>-0.408101</td>\n",
       "      <td>-0.703041</td>\n",
       "      <td>-0.053877</td>\n",
       "    </tr>\n",
       "    <tr>\n",
       "      <th>576</th>\n",
       "      <td>0.566806</td>\n",
       "      <td>1.554590</td>\n",
       "      <td>-0.054511</td>\n",
       "      <td>0.661297</td>\n",
       "      <td>0.433049</td>\n",
       "      <td>0.142299</td>\n",
       "      <td>-0.401886</td>\n",
       "      <td>1.082431</td>\n",
       "    </tr>\n",
       "    <tr>\n",
       "      <th>577</th>\n",
       "      <td>0.947741</td>\n",
       "      <td>-0.030149</td>\n",
       "      <td>-0.932742</td>\n",
       "      <td>-0.151292</td>\n",
       "      <td>-1.914321</td>\n",
       "      <td>0.890830</td>\n",
       "      <td>2.609663</td>\n",
       "      <td>0.798354</td>\n",
       "    </tr>\n",
       "    <tr>\n",
       "      <th>578</th>\n",
       "      <td>0.947741</td>\n",
       "      <td>-0.820721</td>\n",
       "      <td>-0.347254</td>\n",
       "      <td>-0.298603</td>\n",
       "      <td>-0.740636</td>\n",
       "      <td>-0.349820</td>\n",
       "      <td>-0.100731</td>\n",
       "      <td>-0.622031</td>\n",
       "    </tr>\n",
       "    <tr>\n",
       "      <th>579</th>\n",
       "      <td>-0.576001</td>\n",
       "      <td>-0.419014</td>\n",
       "      <td>0.530976</td>\n",
       "      <td>-1.345624</td>\n",
       "      <td>-1.914321</td>\n",
       "      <td>-1.261689</td>\n",
       "      <td>0.501579</td>\n",
       "      <td>-1.190184</td>\n",
       "    </tr>\n",
       "  </tbody>\n",
       "</table>\n",
       "<p>580 rows × 8 columns</p>\n",
       "</div>"
      ],
      "text/plain": [
       "     consec_years  dist_park  visits_2019  online_merch_since19  \\\n",
       "0        0.947741   1.299285    -1.225485              1.123823   \n",
       "1        0.185870   0.626862    -0.347254              0.829201   \n",
       "2       -0.956936   0.233375    -0.639998             -1.583223   \n",
       "3       -1.718808  -0.424151     1.409207              0.089475   \n",
       "4        0.566806  -0.479630    -0.639998             -0.463339   \n",
       "..            ...        ...          ...                   ...   \n",
       "575      0.185870  -0.499150     0.238233             -0.347707   \n",
       "576      0.566806   1.554590    -0.054511              0.661297   \n",
       "577      0.947741  -0.030149    -0.932742             -0.151292   \n",
       "578      0.947741  -0.820721    -0.347254             -0.298603   \n",
       "579     -0.576001  -0.419014     0.530976             -1.345624   \n",
       "\n",
       "     household_pax   est_inc  youngest  openrate  \n",
       "0        -1.914321  2.633883  3.513128 -0.906108  \n",
       "1         0.433049  0.534622 -1.606506 -1.758338  \n",
       "2        -0.740636 -0.648322 -1.004196 -0.337954  \n",
       "3         1.606734 -2.258451 -1.305351 -0.053877  \n",
       "4         0.433049  0.478038 -1.305351  0.514277  \n",
       "..             ...       ...       ...       ...  \n",
       "575       0.433049 -0.408101 -0.703041 -0.053877  \n",
       "576       0.433049  0.142299 -0.401886  1.082431  \n",
       "577      -1.914321  0.890830  2.609663  0.798354  \n",
       "578      -0.740636 -0.349820 -0.100731 -0.622031  \n",
       "579      -1.914321 -1.261689  0.501579 -1.190184  \n",
       "\n",
       "[580 rows x 8 columns]"
      ]
     },
     "execution_count": 9,
     "metadata": {},
     "output_type": "execute_result"
    }
   ],
   "source": [
    "from sklearn.preprocessing import StandardScaler\n",
    "\n",
    "scaler = StandardScaler()\n",
    "scaler.fit(comeback)\n",
    "comeback_normalized = scaler.transform(comeback)\n",
    "comeback_normalized = pd.DataFrame(data=comeback_normalized,\n",
    "                                   index = comeback.index, \n",
    "                                   columns = comeback.columns)\n",
    "\n",
    "comeback_normalized"
   ]
  },
  {
   "cell_type": "markdown",
   "id": "88229cd7",
   "metadata": {},
   "source": [
    "E."
   ]
  },
  {
   "cell_type": "code",
   "execution_count": 10,
   "id": "d382a510",
   "metadata": {},
   "outputs": [],
   "source": [
    "from sklearn.cluster import KMeans"
   ]
  },
  {
   "cell_type": "code",
   "execution_count": 11,
   "id": "cdbcf626",
   "metadata": {},
   "outputs": [
    {
     "data": {
      "image/png": "[encoded data removed]",
      "text/plain": [
       "<Figure size 432x288 with 1 Axes>"
      ]
     },
     "metadata": {
      "needs_background": "light"
     },
     "output_type": "display_data"
    }
   ],
   "source": [
    "import matplotlib.pyplot as plt\n",
    "sse = {}\n",
    "for k in range(1,30):\n",
    "    # Initialize KMeans with k clusters\n",
    "    kmeans = KMeans(n_clusters=k, random_state=101)\n",
    "    # Fit KMeans on the normalized dataset\n",
    "    kmeans.fit(comeback_normalized)\n",
    "    sse[k] = kmeans.inertia_\n",
    " \n",
    "# Add the plot title \"The Elbow Method\"\n",
    "plt.title('The Elbow Method')\n",
    "\n",
    "# Add X-axis label \"k\"\n",
    "plt.xlabel('k')\n",
    "\n",
    "# Add Y-axis label \"SSE\"\n",
    "plt.ylabel('SSE')\n",
    "\n",
    "sn.pointplot(x=list(sse.keys()), y=list(sse.values()));"
   ]
  },
  {
   "cell_type": "markdown",
   "id": "c9a6cf6e",
   "metadata": {},
   "source": [
    "F."
   ]
  },
  {
   "cell_type": "markdown",
   "id": "474ff248",
   "metadata": {},
   "source": [
    "It seems like there's an elbow somewhere between 4 and 7. I'm going to choose 5 as the number of clusters to run"
   ]
  },
  {
   "cell_type": "markdown",
   "id": "b8133c4a",
   "metadata": {},
   "source": [
    "G."
   ]
  },
  {
   "cell_type": "code",
   "execution_count": 12,
   "id": "fdbc9e16",
   "metadata": {},
   "outputs": [],
   "source": [
    "kmeans = KMeans(n_clusters = 5, random_state=101)\n",
    "kmeans = kmeans.fit(comeback_normalized)\n",
    "cluster_labels = kmeans.labels_"
   ]
  },
  {
   "cell_type": "markdown",
   "id": "2cc78b4d",
   "metadata": {},
   "source": [
    "H."
   ]
  },
  {
   "cell_type": "code",
   "execution_count": 13,
   "id": "f2683bc6",
   "metadata": {
    "scrolled": true
   },
   "outputs": [
    {
     "data": {
      "text/html": [
       "<div>\n",
       "<style scoped>\n",
       "    .dataframe tbody tr th:only-of-type {\n",
       "        vertical-align: middle;\n",
       "    }\n",
       "\n",
       "    .dataframe tbody tr th {\n",
       "        vertical-align: top;\n",
       "    }\n",
       "\n",
       "    .dataframe thead th {\n",
       "        text-align: right;\n",
       "    }\n",
       "</style>\n",
       "<table border=\"1\" class=\"dataframe\">\n",
       "  <thead>\n",
       "    <tr style=\"text-align: right;\">\n",
       "      <th></th>\n",
       "      <th>consec_years</th>\n",
       "      <th>dist_park</th>\n",
       "      <th>visits_2019</th>\n",
       "      <th>online_merch_since19</th>\n",
       "      <th>household_pax</th>\n",
       "      <th>est_inc</th>\n",
       "      <th>youngest</th>\n",
       "      <th>openrate</th>\n",
       "    </tr>\n",
       "  </thead>\n",
       "  <tbody>\n",
       "    <tr>\n",
       "      <th>1</th>\n",
       "      <td>7.69</td>\n",
       "      <td>72.07</td>\n",
       "      <td>10.23</td>\n",
       "      <td>37.70</td>\n",
       "      <td>2.62</td>\n",
       "      <td>104549.69</td>\n",
       "      <td>12.48</td>\n",
       "      <td>19.40</td>\n",
       "    </tr>\n",
       "    <tr>\n",
       "      <th>2</th>\n",
       "      <td>8.86</td>\n",
       "      <td>89.02</td>\n",
       "      <td>16.31</td>\n",
       "      <td>63.77</td>\n",
       "      <td>3.01</td>\n",
       "      <td>139508.49</td>\n",
       "      <td>12.71</td>\n",
       "      <td>24.09</td>\n",
       "    </tr>\n",
       "    <tr>\n",
       "      <th>3</th>\n",
       "      <td>6.49</td>\n",
       "      <td>91.94</td>\n",
       "      <td>11.04</td>\n",
       "      <td>48.69</td>\n",
       "      <td>2.87</td>\n",
       "      <td>155954.33</td>\n",
       "      <td>12.86</td>\n",
       "      <td>18.51</td>\n",
       "    </tr>\n",
       "    <tr>\n",
       "      <th>4</th>\n",
       "      <td>8.08</td>\n",
       "      <td>87.64</td>\n",
       "      <td>10.58</td>\n",
       "      <td>44.32</td>\n",
       "      <td>1.56</td>\n",
       "      <td>136944.05</td>\n",
       "      <td>18.36</td>\n",
       "      <td>18.25</td>\n",
       "    </tr>\n",
       "    <tr>\n",
       "      <th>5</th>\n",
       "      <td>11.21</td>\n",
       "      <td>90.68</td>\n",
       "      <td>11.29</td>\n",
       "      <td>45.78</td>\n",
       "      <td>2.59</td>\n",
       "      <td>146001.42</td>\n",
       "      <td>12.38</td>\n",
       "      <td>19.09</td>\n",
       "    </tr>\n",
       "    <tr>\n",
       "      <th>Mean</th>\n",
       "      <td>8.51</td>\n",
       "      <td>86.16</td>\n",
       "      <td>12.19</td>\n",
       "      <td>48.99</td>\n",
       "      <td>2.63</td>\n",
       "      <td>136389.82</td>\n",
       "      <td>13.33</td>\n",
       "      <td>20.19</td>\n",
       "    </tr>\n",
       "    <tr>\n",
       "      <th>Std</th>\n",
       "      <td>2.63</td>\n",
       "      <td>19.48</td>\n",
       "      <td>3.42</td>\n",
       "      <td>12.64</td>\n",
       "      <td>0.85</td>\n",
       "      <td>29485.81</td>\n",
       "      <td>3.32</td>\n",
       "      <td>3.52</td>\n",
       "    </tr>\n",
       "  </tbody>\n",
       "</table>\n",
       "</div>"
      ],
      "text/plain": [
       "      consec_years  dist_park  visits_2019  online_merch_since19  \\\n",
       "1             7.69      72.07        10.23                 37.70   \n",
       "2             8.86      89.02        16.31                 63.77   \n",
       "3             6.49      91.94        11.04                 48.69   \n",
       "4             8.08      87.64        10.58                 44.32   \n",
       "5            11.21      90.68        11.29                 45.78   \n",
       "Mean          8.51      86.16        12.19                 48.99   \n",
       "Std           2.63      19.48         3.42                 12.64   \n",
       "\n",
       "      household_pax    est_inc  youngest  openrate  \n",
       "1              2.62  104549.69     12.48     19.40  \n",
       "2              3.01  139508.49     12.71     24.09  \n",
       "3              2.87  155954.33     12.86     18.51  \n",
       "4              1.56  136944.05     18.36     18.25  \n",
       "5              2.59  146001.42     12.38     19.09  \n",
       "Mean           2.63  136389.82     13.33     20.19  \n",
       "Std            0.85   29485.81      3.32      3.52  "
      ]
     },
     "execution_count": 13,
     "metadata": {},
     "output_type": "execute_result"
    }
   ],
   "source": [
    "kmeans2 = comeback.assign(Cluster=cluster_labels)\n",
    "kmeans3 = kmeans2.groupby(['Cluster']).agg({\n",
    "    'consec_years': 'mean',\n",
    "    'dist_park': 'mean',\n",
    "    'visits_2019': 'mean',\n",
    "    'online_merch_since19': 'mean',\n",
    "    'household_pax': 'mean',\n",
    "    'est_inc': 'mean',\n",
    "    'youngest': 'mean',\n",
    "    'openrate': 'mean',\n",
    "  }).round(2)\n",
    "\n",
    "m = pd.DataFrame(data = comeback.mean())\n",
    "s = pd.DataFrame(data = comeback.std())\n",
    "\n",
    "comeback3 = pd.concat([kmeans3, m.T, s.T])\n",
    "\n",
    "comeback3.index = [1,2,3,4,5,6,7]\n",
    "\n",
    "comeback3.rename(index={6: \"Mean\", 7: \"Std\"}).round(2)"
   ]
  },
  {
   "cell_type": "code",
   "execution_count": 14,
   "id": "784c70b4",
   "metadata": {},
   "outputs": [
    {
     "data": {
      "text/html": [
       "<div>\n",
       "<style scoped>\n",
       "    .dataframe tbody tr th:only-of-type {\n",
       "        vertical-align: middle;\n",
       "    }\n",
       "\n",
       "    .dataframe tbody tr th {\n",
       "        vertical-align: top;\n",
       "    }\n",
       "\n",
       "    .dataframe thead th {\n",
       "        text-align: right;\n",
       "    }\n",
       "</style>\n",
       "<table border=\"1\" class=\"dataframe\">\n",
       "  <thead>\n",
       "    <tr style=\"text-align: right;\">\n",
       "      <th></th>\n",
       "      <th>consec_years</th>\n",
       "      <th>dist_park</th>\n",
       "      <th>visits_2019</th>\n",
       "      <th>online_merch_since19</th>\n",
       "      <th>household_pax</th>\n",
       "      <th>est_inc</th>\n",
       "      <th>youngest</th>\n",
       "      <th>openrate</th>\n",
       "      <th>Cluster</th>\n",
       "    </tr>\n",
       "  </thead>\n",
       "  <tbody>\n",
       "    <tr>\n",
       "      <th>0</th>\n",
       "      <td>11</td>\n",
       "      <td>111.45</td>\n",
       "      <td>8</td>\n",
       "      <td>63.18</td>\n",
       "      <td>1</td>\n",
       "      <td>213985</td>\n",
       "      <td>25</td>\n",
       "      <td>17</td>\n",
       "      <td>3</td>\n",
       "    </tr>\n",
       "    <tr>\n",
       "      <th>1</th>\n",
       "      <td>9</td>\n",
       "      <td>98.36</td>\n",
       "      <td>11</td>\n",
       "      <td>59.46</td>\n",
       "      <td>3</td>\n",
       "      <td>152140</td>\n",
       "      <td>8</td>\n",
       "      <td>14</td>\n",
       "      <td>2</td>\n",
       "    </tr>\n",
       "    <tr>\n",
       "      <th>2</th>\n",
       "      <td>6</td>\n",
       "      <td>90.70</td>\n",
       "      <td>10</td>\n",
       "      <td>29.00</td>\n",
       "      <td>2</td>\n",
       "      <td>117290</td>\n",
       "      <td>10</td>\n",
       "      <td>19</td>\n",
       "      <td>0</td>\n",
       "    </tr>\n",
       "    <tr>\n",
       "      <th>3</th>\n",
       "      <td>4</td>\n",
       "      <td>77.90</td>\n",
       "      <td>17</td>\n",
       "      <td>50.12</td>\n",
       "      <td>4</td>\n",
       "      <td>69855</td>\n",
       "      <td>9</td>\n",
       "      <td>20</td>\n",
       "      <td>0</td>\n",
       "    </tr>\n",
       "    <tr>\n",
       "      <th>4</th>\n",
       "      <td>10</td>\n",
       "      <td>76.82</td>\n",
       "      <td>10</td>\n",
       "      <td>43.14</td>\n",
       "      <td>3</td>\n",
       "      <td>150473</td>\n",
       "      <td>9</td>\n",
       "      <td>22</td>\n",
       "      <td>4</td>\n",
       "    </tr>\n",
       "  </tbody>\n",
       "</table>\n",
       "</div>"
      ],
      "text/plain": [
       "   consec_years  dist_park  visits_2019  online_merch_since19  household_pax  \\\n",
       "0            11     111.45            8                 63.18              1   \n",
       "1             9      98.36           11                 59.46              3   \n",
       "2             6      90.70           10                 29.00              2   \n",
       "3             4      77.90           17                 50.12              4   \n",
       "4            10      76.82           10                 43.14              3   \n",
       "\n",
       "   est_inc  youngest  openrate  Cluster  \n",
       "0   213985        25        17        3  \n",
       "1   152140         8        14        2  \n",
       "2   117290        10        19        0  \n",
       "3    69855         9        20        0  \n",
       "4   150473         9        22        4  "
      ]
     },
     "execution_count": 14,
     "metadata": {},
     "output_type": "execute_result"
    }
   ],
   "source": [
    "kmeans2.head()"
   ]
  },
  {
   "cell_type": "code",
   "execution_count": null,
   "id": "3b0601ac",
   "metadata": {},
   "outputs": [],
   "source": []
  },
  {
   "cell_type": "markdown",
   "id": "de61dfa6",
   "metadata": {},
   "source": [
    "I. Barchart, Histogram, Scatterplot"
   ]
  },
  {
   "cell_type": "markdown",
   "id": "eada7d5b",
   "metadata": {},
   "source": [
    "The top bar chart shows us how the numbers of visits differ between clusters. People in cluster 1 tend to visit the park more often than other cluster. The bottom bar chart shows us the average distances families live from the park. It's interesting that cluster 0 lives the closest, but also has the least amount of visits."
   ]
  },
  {
   "cell_type": "code",
   "execution_count": 15,
   "id": "480934a1",
   "metadata": {},
   "outputs": [
    {
     "data": {
      "text/plain": [
       "<AxesSubplot:xlabel='Cluster', ylabel='visits_2019'>"
      ]
     },
     "execution_count": 15,
     "metadata": {},
     "output_type": "execute_result"
    },
    {
     "data": {
      "image/png": "[encoded data removed]",
      "text/plain": [
       "<Figure size 432x288 with 1 Axes>"
      ]
     },
     "metadata": {
      "needs_background": "light"
     },
     "output_type": "display_data"
    }
   ],
   "source": [
    "sn.barplot(x='Cluster', y='visits_2019', ci= None, data=kmeans2)"
   ]
  },
  {
   "cell_type": "code",
   "execution_count": 16,
   "id": "ad3aae1d",
   "metadata": {},
   "outputs": [
    {
     "data": {
      "text/plain": [
       "<AxesSubplot:xlabel='Cluster', ylabel='dist_park'>"
      ]
     },
     "execution_count": 16,
     "metadata": {},
     "output_type": "execute_result"
    },
    {
     "data": {
      "image/png": "[encoded data removed]",
      "text/plain": [
       "<Figure size 432x288 with 1 Axes>"
      ]
     },
     "metadata": {
      "needs_background": "light"
     },
     "output_type": "display_data"
    }
   ],
   "source": [
    "sn.barplot(x='Cluster', y='dist_park', ci= None, data=kmeans2)"
   ]
  },
  {
   "cell_type": "markdown",
   "id": "7f26a835",
   "metadata": {},
   "source": [
    "These faceted histograms show the different distributions clusters and years having season passes. These definitely tell us something about the data. For example, cluster 4 make up people that have had season passes for 9 years or more, whereas cluster 2 is people who have had passes 9 years or less."
   ]
  },
  {
   "cell_type": "code",
   "execution_count": 17,
   "id": "09611e43",
   "metadata": {},
   "outputs": [
    {
     "data": {
      "text/plain": [
       "<seaborn.axisgrid.FacetGrid at 0x7f874583d160>"
      ]
     },
     "execution_count": 17,
     "metadata": {},
     "output_type": "execute_result"
    },
    {
     "data": {
      "image/png": "[encoded data removed]",
      "text/plain": [
       "<Figure size 1080x216 with 5 Axes>"
      ]
     },
     "metadata": {
      "needs_background": "light"
     },
     "output_type": "display_data"
    }
   ],
   "source": [
    "g = sn.FacetGrid(col='Cluster',data=kmeans2,legend_out=False)\n",
    "g.map(sn.histplot,'consec_years')"
   ]
  },
  {
   "cell_type": "markdown",
   "id": "7d36411b",
   "metadata": {},
   "source": [
    "These two sets of feceted scatterplots show us further differences about each cluster and allow us to make more specific assumptions about what groups these clusters might represent. \n",
    "\n",
    "For instance, you can see that cluster 4 represents households who have had season passes for many years (histogram), but also have children on the younger side (top scatterplot). This means they probably got the season pass around the time the child was young and have been going ever since.\n",
    "\n",
    "Comparing the two scatterplot grids you can also see that cluster 1 represents people that have higher household income, younger kids, and buy a lot of online merchandise. However, cluster 4 is made up of people with higher income, younger kids, but they tend to buy less online merchandise."
   ]
  },
  {
   "cell_type": "code",
   "execution_count": 18,
   "id": "bc2492df",
   "metadata": {},
   "outputs": [
    {
     "data": {
      "text/plain": [
       "<seaborn.axisgrid.FacetGrid at 0x7f87450ef790>"
      ]
     },
     "execution_count": 18,
     "metadata": {},
     "output_type": "execute_result"
    },
    {
     "data": {
      "image/png": "[encoded data removed]",
      "text/plain": [
       "<Figure size 1080x216 with 5 Axes>"
      ]
     },
     "metadata": {
      "needs_background": "light"
     },
     "output_type": "display_data"
    }
   ],
   "source": [
    "g = sn.FacetGrid(col='Cluster',data=kmeans2,legend_out=False)\n",
    "g.map(sn.scatterplot,'youngest','est_inc')"
   ]
  },
  {
   "cell_type": "code",
   "execution_count": 19,
   "id": "65def3f9",
   "metadata": {},
   "outputs": [
    {
     "data": {
      "text/plain": [
       "<seaborn.axisgrid.FacetGrid at 0x7f8745e3f070>"
      ]
     },
     "execution_count": 19,
     "metadata": {},
     "output_type": "execute_result"
    },
    {
     "data": {
      "image/png": "[encoded data removed]",
      "text/plain": [
       "<Figure size 1080x216 with 5 Axes>"
      ]
     },
     "metadata": {
      "needs_background": "light"
     },
     "output_type": "display_data"
    }
   ],
   "source": [
    "g = sn.FacetGrid(col='Cluster',data=kmeans2,legend_out=False)\n",
    "g.map(sn.scatterplot,'online_merch_since19','est_inc')"
   ]
  },
  {
   "cell_type": "markdown",
   "id": "42e1a8d9",
   "metadata": {},
   "source": [
    "J."
   ]
  },
  {
   "cell_type": "markdown",
   "id": "50851330",
   "metadata": {},
   "source": [
    "Cluster 0: Families That Come When They Can\n",
    "- Cluster 0 represents families that have lower incomes, have younger children, and also visited the park the least in 2019. This makes sense given the families may have less money or time to spend on going to the park. They also on average live the closest, which rules out distance being a negating factor in why the visits are lower.\n",
    "\n",
    "Cluster 1: Kids Love Lobster Land\n",
    "- Cluster 1 is made up of families with younger children who visit the park very often, and have higher estimated incomes. They also tend to buy more online merchandise than any other cluster and be season pass holders for a decently long amount of time. \n",
    "\n",
    "Cluster 2: Rich New Comers\n",
    "- Cluster 2 is made up of higher income families with younger children. Unlike cluster 2 they are more recent season pass holders. It'd be safe to say these people are newer to the park, and maybe the area, and are looking for things to do as a family.\n",
    "\n",
    "Cluster 3: Young adults\n",
    "- Cluster 3 is made up of what looks like families with younger children in their mid to late teens, as well as young adults in their early 20s. This cluster represents a gen x, y, z segment that should be marketed to accordingly.\n",
    "\n",
    "Cluster 4: Returning lobster lovers\n",
    "- Cluster 4 are the long time pass holders. It looks like they are mostly families that probably bought a season pass when their children were young and have continued to go thoughout the years (majority consec_years is around 11-12 and the youngest in household is majority around 11-12 years. They keep coming back, which is great for customer lifetime value. Promotions to this segment would probably include something like a club pass or club credit. After being pass holders for so long they get 10% off all retail clothing items or something like that. This would also drive up merchandise sales for the cluster hopefully.\n",
    "\n"
   ]
  },
  {
   "cell_type": "markdown",
   "id": "06e4ee9c",
   "metadata": {},
   "source": [
    "# Part II - Conjoint Analysis"
   ]
  },
  {
   "cell_type": "markdown",
   "id": "21c459c4",
   "metadata": {},
   "source": [
    "A."
   ]
  },
  {
   "cell_type": "code",
   "execution_count": 20,
   "id": "4d4a76b9",
   "metadata": {},
   "outputs": [
    {
     "data": {
      "text/plain": [
       "False"
      ]
     },
     "execution_count": 20,
     "metadata": {},
     "output_type": "execute_result"
    }
   ],
   "source": [
    "coaster_choices = pd.read_csv(\"coaster_choices.csv\")\n",
    "coaster_choices.isnull().values.any()"
   ]
  },
  {
   "cell_type": "markdown",
   "id": "7eaf2bb1",
   "metadata": {},
   "source": [
    "B."
   ]
  },
  {
   "cell_type": "markdown",
   "id": "ef9afe50",
   "metadata": {},
   "source": [
    "Categorical: rocketlaunch, material, track_color\n",
    "\n",
    "Numerical: maxspeed, seats_car, drop, avg_rating"
   ]
  },
  {
   "cell_type": "markdown",
   "id": "8523f80f",
   "metadata": {},
   "source": [
    "C."
   ]
  },
  {
   "cell_type": "code",
   "execution_count": 21,
   "id": "1730fe93",
   "metadata": {},
   "outputs": [
    {
     "data": {
      "text/html": [
       "<div>\n",
       "<style scoped>\n",
       "    .dataframe tbody tr th:only-of-type {\n",
       "        vertical-align: middle;\n",
       "    }\n",
       "\n",
       "    .dataframe tbody tr th {\n",
       "        vertical-align: top;\n",
       "    }\n",
       "\n",
       "    .dataframe thead th {\n",
       "        text-align: right;\n",
       "    }\n",
       "</style>\n",
       "<table border=\"1\" class=\"dataframe\">\n",
       "  <thead>\n",
       "    <tr style=\"text-align: right;\">\n",
       "      <th></th>\n",
       "      <th>avg_rating</th>\n",
       "      <th>rocketlaunch_Yes</th>\n",
       "      <th>maxspeed_60</th>\n",
       "      <th>maxspeed_80</th>\n",
       "      <th>material_Wood</th>\n",
       "      <th>seats_car_4</th>\n",
       "      <th>drop_200</th>\n",
       "      <th>drop_300</th>\n",
       "      <th>track_color_green</th>\n",
       "      <th>track_color_red</th>\n",
       "      <th>track_color_white</th>\n",
       "    </tr>\n",
       "  </thead>\n",
       "  <tbody>\n",
       "    <tr>\n",
       "      <th>0</th>\n",
       "      <td>9.669</td>\n",
       "      <td>1</td>\n",
       "      <td>0</td>\n",
       "      <td>0</td>\n",
       "      <td>0</td>\n",
       "      <td>0</td>\n",
       "      <td>0</td>\n",
       "      <td>0</td>\n",
       "      <td>0</td>\n",
       "      <td>1</td>\n",
       "      <td>0</td>\n",
       "    </tr>\n",
       "    <tr>\n",
       "      <th>1</th>\n",
       "      <td>5.288</td>\n",
       "      <td>1</td>\n",
       "      <td>0</td>\n",
       "      <td>0</td>\n",
       "      <td>0</td>\n",
       "      <td>0</td>\n",
       "      <td>0</td>\n",
       "      <td>0</td>\n",
       "      <td>0</td>\n",
       "      <td>0</td>\n",
       "      <td>0</td>\n",
       "    </tr>\n",
       "    <tr>\n",
       "      <th>2</th>\n",
       "      <td>2.121</td>\n",
       "      <td>1</td>\n",
       "      <td>0</td>\n",
       "      <td>0</td>\n",
       "      <td>0</td>\n",
       "      <td>0</td>\n",
       "      <td>0</td>\n",
       "      <td>0</td>\n",
       "      <td>1</td>\n",
       "      <td>0</td>\n",
       "      <td>0</td>\n",
       "    </tr>\n",
       "    <tr>\n",
       "      <th>3</th>\n",
       "      <td>5.576</td>\n",
       "      <td>1</td>\n",
       "      <td>0</td>\n",
       "      <td>0</td>\n",
       "      <td>0</td>\n",
       "      <td>0</td>\n",
       "      <td>0</td>\n",
       "      <td>0</td>\n",
       "      <td>0</td>\n",
       "      <td>0</td>\n",
       "      <td>1</td>\n",
       "    </tr>\n",
       "    <tr>\n",
       "      <th>4</th>\n",
       "      <td>8.272</td>\n",
       "      <td>1</td>\n",
       "      <td>0</td>\n",
       "      <td>0</td>\n",
       "      <td>0</td>\n",
       "      <td>0</td>\n",
       "      <td>1</td>\n",
       "      <td>0</td>\n",
       "      <td>0</td>\n",
       "      <td>1</td>\n",
       "      <td>0</td>\n",
       "    </tr>\n",
       "  </tbody>\n",
       "</table>\n",
       "</div>"
      ],
      "text/plain": [
       "   avg_rating  rocketlaunch_Yes  maxspeed_60  maxspeed_80  material_Wood  \\\n",
       "0       9.669                 1            0            0              0   \n",
       "1       5.288                 1            0            0              0   \n",
       "2       2.121                 1            0            0              0   \n",
       "3       5.576                 1            0            0              0   \n",
       "4       8.272                 1            0            0              0   \n",
       "\n",
       "   seats_car_4  drop_200  drop_300  track_color_green  track_color_red  \\\n",
       "0            0         0         0                  0                1   \n",
       "1            0         0         0                  0                0   \n",
       "2            0         0         0                  1                0   \n",
       "3            0         0         0                  0                0   \n",
       "4            0         1         0                  0                1   \n",
       "\n",
       "   track_color_white  \n",
       "0                  0  \n",
       "1                  0  \n",
       "2                  0  \n",
       "3                  1  \n",
       "4                  0  "
      ]
     },
     "execution_count": 21,
     "metadata": {},
     "output_type": "execute_result"
    }
   ],
   "source": [
    "coaster_choices2 = pd.get_dummies(coaster_choices, \n",
    "                                  columns=['rocketlaunch','maxspeed', 'material', 'seats_car','drop','track_color'], \n",
    "                                  drop_first=True)\n",
    "coaster_choices2.head()"
   ]
  },
  {
   "cell_type": "markdown",
   "id": "6cdc4d94",
   "metadata": {},
   "source": [
    "We converted all of the varaibles to dummies because linear models can only understand numerical data. This is the only way we can build a reliable model that predicts a numerical outcome variable, in this case the avg_rating."
   ]
  },
  {
   "cell_type": "markdown",
   "id": "dfbe7dd6",
   "metadata": {},
   "source": [
    "D."
   ]
  },
  {
   "cell_type": "code",
   "execution_count": 22,
   "id": "69592209",
   "metadata": {},
   "outputs": [
    {
     "data": {
      "text/plain": [
       "Index(['avg_rating', 'rocketlaunch_Yes', 'maxspeed_60', 'maxspeed_80',\n",
       "       'material_Wood', 'seats_car_4', 'drop_200', 'drop_300',\n",
       "       'track_color_green', 'track_color_red', 'track_color_white'],\n",
       "      dtype='object')"
      ]
     },
     "execution_count": 22,
     "metadata": {},
     "output_type": "execute_result"
    }
   ],
   "source": [
    "coaster_choices2.columns"
   ]
  },
  {
   "cell_type": "code",
   "execution_count": 23,
   "id": "7c1ce6ca",
   "metadata": {},
   "outputs": [],
   "source": [
    "x = coaster_choices2[['rocketlaunch_Yes', 'maxspeed_60', 'maxspeed_80',\n",
    "       'material_Wood', 'seats_car_4', 'drop_200', 'drop_300',\n",
    "       'track_color_green', 'track_color_red', 'track_color_white']]\n",
    "y = coaster_choices2['avg_rating']"
   ]
  },
  {
   "cell_type": "code",
   "execution_count": 24,
   "id": "80473ba3",
   "metadata": {},
   "outputs": [
    {
     "data": {
      "text/plain": [
       "LinearRegression()"
      ]
     },
     "execution_count": 24,
     "metadata": {},
     "output_type": "execute_result"
    }
   ],
   "source": [
    "from sklearn.linear_model import LinearRegression\n",
    "from sklearn import metrics\n",
    "regressor = LinearRegression()\n",
    "regressor.fit(x, y)"
   ]
  },
  {
   "cell_type": "markdown",
   "id": "bd0ebb7c",
   "metadata": {},
   "source": [
    "E."
   ]
  },
  {
   "cell_type": "code",
   "execution_count": 25,
   "id": "b97dac2f",
   "metadata": {},
   "outputs": [
    {
     "data": {
      "text/plain": [
       "4.0640555555555515"
      ]
     },
     "execution_count": 25,
     "metadata": {},
     "output_type": "execute_result"
    }
   ],
   "source": [
    "regressor.intercept_"
   ]
  },
  {
   "cell_type": "code",
   "execution_count": 26,
   "id": "45cf64be",
   "metadata": {},
   "outputs": [
    {
     "data": {
      "text/html": [
       "<div>\n",
       "<style scoped>\n",
       "    .dataframe tbody tr th:only-of-type {\n",
       "        vertical-align: middle;\n",
       "    }\n",
       "\n",
       "    .dataframe tbody tr th {\n",
       "        vertical-align: top;\n",
       "    }\n",
       "\n",
       "    .dataframe thead th {\n",
       "        text-align: right;\n",
       "    }\n",
       "</style>\n",
       "<table border=\"1\" class=\"dataframe\">\n",
       "  <thead>\n",
       "    <tr style=\"text-align: right;\">\n",
       "      <th></th>\n",
       "      <th>Coefficient</th>\n",
       "    </tr>\n",
       "  </thead>\n",
       "  <tbody>\n",
       "    <tr>\n",
       "      <th>rocketlaunch_Yes</th>\n",
       "      <td>0.980514</td>\n",
       "    </tr>\n",
       "    <tr>\n",
       "      <th>maxspeed_60</th>\n",
       "      <td>1.937927</td>\n",
       "    </tr>\n",
       "    <tr>\n",
       "      <th>maxspeed_80</th>\n",
       "      <td>1.303698</td>\n",
       "    </tr>\n",
       "    <tr>\n",
       "      <th>material_Wood</th>\n",
       "      <td>-0.619986</td>\n",
       "    </tr>\n",
       "    <tr>\n",
       "      <th>seats_car_4</th>\n",
       "      <td>-0.526125</td>\n",
       "    </tr>\n",
       "    <tr>\n",
       "      <th>drop_200</th>\n",
       "      <td>0.880396</td>\n",
       "    </tr>\n",
       "    <tr>\n",
       "      <th>drop_300</th>\n",
       "      <td>0.850167</td>\n",
       "    </tr>\n",
       "    <tr>\n",
       "      <th>track_color_green</th>\n",
       "      <td>0.386097</td>\n",
       "    </tr>\n",
       "    <tr>\n",
       "      <th>track_color_red</th>\n",
       "      <td>1.943069</td>\n",
       "    </tr>\n",
       "    <tr>\n",
       "      <th>track_color_white</th>\n",
       "      <td>-0.242778</td>\n",
       "    </tr>\n",
       "  </tbody>\n",
       "</table>\n",
       "</div>"
      ],
      "text/plain": [
       "                   Coefficient\n",
       "rocketlaunch_Yes      0.980514\n",
       "maxspeed_60           1.937927\n",
       "maxspeed_80           1.303698\n",
       "material_Wood        -0.619986\n",
       "seats_car_4          -0.526125\n",
       "drop_200              0.880396\n",
       "drop_300              0.850167\n",
       "track_color_green     0.386097\n",
       "track_color_red       1.943069\n",
       "track_color_white    -0.242778"
      ]
     },
     "execution_count": 26,
     "metadata": {},
     "output_type": "execute_result"
    }
   ],
   "source": [
    "coef_df = pd.DataFrame(regressor.coef_, x.columns, columns=['Coefficient'])\n",
    "coef_df"
   ]
  },
  {
   "cell_type": "markdown",
   "id": "69b16d13",
   "metadata": {},
   "source": [
    "F."
   ]
  },
  {
   "cell_type": "markdown",
   "id": "9ede8ea2",
   "metadata": {},
   "source": [
    "Our model shows us that park goers prefer exciting, jolting rides, that offer both a feeling of privacy and safety. As you can see above from the coefficients, respondents reacted well to rides that had more \"rocketlaunch\", or extreme acceleration, over rides that went slowly. Similarly they also liked rides with max speeds of 60 or 80 over rides with 40mph. The material of the ride being made out of wood probably represented less safety or maybe a sense of overall cheapness, which respondents did not like. Having 4 seats vs 2 was also a negative overall. This probably was due to people being lumped together with strangers. Again, larger drops are more exhilerating, which respondents were favorable too, as well as red track color. The red track color represented more \"thrill\" in the riders mind, which made the roller coaster more of a rush."
   ]
  }
 ],
 "metadata": {
  "kernelspec": {
   "display_name": "Python 3 (ipykernel)",
   "language": "python",
   "name": "python3"
  },
  "language_info": {
   "codemirror_mode": {
    "name": "ipython",
    "version": 3
   },
   "file_extension": ".py",
   "mimetype": "text/x-python",
   "name": "python",
   "nbconvert_exporter": "python",
   "pygments_lexer": "ipython3",
   "version": "3.9.7"
  }
 },
 "nbformat": 4,
 "nbformat_minor": 5
}
