{
 "cells": [
  {
   "cell_type": "markdown",
   "id": "38420372",
   "metadata": {},
   "source": [
    "# Part I"
   ]
  },
  {
   "cell_type": "markdown",
   "id": "c2a55a87",
   "metadata": {},
   "source": [
    "A."
   ]
  },
  {
   "cell_type": "code",
   "execution_count": 1,
   "id": "d330118b",
   "metadata": {},
   "outputs": [],
   "source": [
    "import pandas as pd"
   ]
  },
  {
   "cell_type": "code",
   "execution_count": 2,
   "id": "f65e0c9d",
   "metadata": {},
   "outputs": [
    {
     "data": {
      "text/html": [
       "<div>\n",
       "<style scoped>\n",
       "    .dataframe tbody tr th:only-of-type {\n",
       "        vertical-align: middle;\n",
       "    }\n",
       "\n",
       "    .dataframe tbody tr th {\n",
       "        vertical-align: top;\n",
       "    }\n",
       "\n",
       "    .dataframe thead th {\n",
       "        text-align: right;\n",
       "    }\n",
       "</style>\n",
       "<table border=\"1\" class=\"dataframe\">\n",
       "  <thead>\n",
       "    <tr style=\"text-align: right;\">\n",
       "      <th></th>\n",
       "      <th>id</th>\n",
       "      <th>Gender</th>\n",
       "      <th>Age</th>\n",
       "      <th>purpose_of_travel</th>\n",
       "      <th>Type of Travel</th>\n",
       "      <th>Type Of Booking</th>\n",
       "      <th>Hotel wifi service</th>\n",
       "      <th>Departure/Arrival  convenience</th>\n",
       "      <th>Ease of Online booking</th>\n",
       "      <th>Hotel location</th>\n",
       "      <th>Food and drink</th>\n",
       "      <th>Stay comfort</th>\n",
       "      <th>Common Room entertainment</th>\n",
       "      <th>Checkin/Checkout service</th>\n",
       "      <th>Other service</th>\n",
       "      <th>Cleanliness</th>\n",
       "      <th>satisfaction</th>\n",
       "    </tr>\n",
       "  </thead>\n",
       "  <tbody>\n",
       "    <tr>\n",
       "      <th>0</th>\n",
       "      <td>70172</td>\n",
       "      <td>Male</td>\n",
       "      <td>13</td>\n",
       "      <td>aviation</td>\n",
       "      <td>Personal Travel</td>\n",
       "      <td>Not defined</td>\n",
       "      <td>3</td>\n",
       "      <td>4</td>\n",
       "      <td>3</td>\n",
       "      <td>1</td>\n",
       "      <td>5</td>\n",
       "      <td>5</td>\n",
       "      <td>5</td>\n",
       "      <td>4</td>\n",
       "      <td>5</td>\n",
       "      <td>5</td>\n",
       "      <td>neutral or dissatisfied</td>\n",
       "    </tr>\n",
       "    <tr>\n",
       "      <th>1</th>\n",
       "      <td>5047</td>\n",
       "      <td>Male</td>\n",
       "      <td>25</td>\n",
       "      <td>tourism</td>\n",
       "      <td>Group Travel</td>\n",
       "      <td>Group bookings</td>\n",
       "      <td>3</td>\n",
       "      <td>2</td>\n",
       "      <td>3</td>\n",
       "      <td>3</td>\n",
       "      <td>1</td>\n",
       "      <td>1</td>\n",
       "      <td>1</td>\n",
       "      <td>1</td>\n",
       "      <td>4</td>\n",
       "      <td>1</td>\n",
       "      <td>neutral or dissatisfied</td>\n",
       "    </tr>\n",
       "    <tr>\n",
       "      <th>2</th>\n",
       "      <td>110028</td>\n",
       "      <td>Female</td>\n",
       "      <td>26</td>\n",
       "      <td>tourism</td>\n",
       "      <td>Group Travel</td>\n",
       "      <td>Group bookings</td>\n",
       "      <td>2</td>\n",
       "      <td>2</td>\n",
       "      <td>2</td>\n",
       "      <td>2</td>\n",
       "      <td>5</td>\n",
       "      <td>5</td>\n",
       "      <td>5</td>\n",
       "      <td>4</td>\n",
       "      <td>4</td>\n",
       "      <td>5</td>\n",
       "      <td>satisfied</td>\n",
       "    </tr>\n",
       "    <tr>\n",
       "      <th>3</th>\n",
       "      <td>24026</td>\n",
       "      <td>Female</td>\n",
       "      <td>25</td>\n",
       "      <td>tourism</td>\n",
       "      <td>Group Travel</td>\n",
       "      <td>Group bookings</td>\n",
       "      <td>2</td>\n",
       "      <td>5</td>\n",
       "      <td>5</td>\n",
       "      <td>5</td>\n",
       "      <td>2</td>\n",
       "      <td>2</td>\n",
       "      <td>2</td>\n",
       "      <td>1</td>\n",
       "      <td>4</td>\n",
       "      <td>2</td>\n",
       "      <td>neutral or dissatisfied</td>\n",
       "    </tr>\n",
       "    <tr>\n",
       "      <th>4</th>\n",
       "      <td>119299</td>\n",
       "      <td>Male</td>\n",
       "      <td>61</td>\n",
       "      <td>aviation</td>\n",
       "      <td>Group Travel</td>\n",
       "      <td>Group bookings</td>\n",
       "      <td>3</td>\n",
       "      <td>3</td>\n",
       "      <td>3</td>\n",
       "      <td>3</td>\n",
       "      <td>4</td>\n",
       "      <td>5</td>\n",
       "      <td>3</td>\n",
       "      <td>3</td>\n",
       "      <td>3</td>\n",
       "      <td>3</td>\n",
       "      <td>satisfied</td>\n",
       "    </tr>\n",
       "  </tbody>\n",
       "</table>\n",
       "</div>"
      ],
      "text/plain": [
       "       id  Gender  Age purpose_of_travel   Type of Travel Type Of Booking  \\\n",
       "0   70172    Male   13          aviation  Personal Travel     Not defined   \n",
       "1    5047    Male   25           tourism     Group Travel  Group bookings   \n",
       "2  110028  Female   26           tourism     Group Travel  Group bookings   \n",
       "3   24026  Female   25           tourism     Group Travel  Group bookings   \n",
       "4  119299    Male   61          aviation     Group Travel  Group bookings   \n",
       "\n",
       "   Hotel wifi service  Departure/Arrival  convenience  Ease of Online booking  \\\n",
       "0                   3                               4                       3   \n",
       "1                   3                               2                       3   \n",
       "2                   2                               2                       2   \n",
       "3                   2                               5                       5   \n",
       "4                   3                               3                       3   \n",
       "\n",
       "   Hotel location  Food and drink  Stay comfort  Common Room entertainment  \\\n",
       "0               1               5             5                          5   \n",
       "1               3               1             1                          1   \n",
       "2               2               5             5                          5   \n",
       "3               5               2             2                          2   \n",
       "4               3               4             5                          3   \n",
       "\n",
       "   Checkin/Checkout service  Other service  Cleanliness  \\\n",
       "0                         4              5            5   \n",
       "1                         1              4            1   \n",
       "2                         4              4            5   \n",
       "3                         1              4            2   \n",
       "4                         3              3            3   \n",
       "\n",
       "              satisfaction  \n",
       "0  neutral or dissatisfied  \n",
       "1  neutral or dissatisfied  \n",
       "2                satisfied  \n",
       "3  neutral or dissatisfied  \n",
       "4                satisfied  "
      ]
     },
     "execution_count": 2,
     "metadata": {},
     "output_type": "execute_result"
    }
   ],
   "source": [
    "eurohotels = pd.read_csv(\"euro_hotels.csv\")\n",
    "eurohotels.head()"
   ]
  },
  {
   "cell_type": "markdown",
   "id": "32c9cbce",
   "metadata": {},
   "source": [
    "B."
   ]
  },
  {
   "cell_type": "code",
   "execution_count": 3,
   "id": "718e0718",
   "metadata": {},
   "outputs": [
    {
     "data": {
      "text/plain": [
       "Index(['id', 'Gender', 'Age', 'purpose_of_travel', 'Type of Travel',\n",
       "       'Type Of Booking', 'Hotel wifi service',\n",
       "       'Departure/Arrival  convenience', 'Ease of Online booking',\n",
       "       'Hotel location', 'Food and drink', 'Stay comfort',\n",
       "       'Common Room entertainment', 'Checkin/Checkout service',\n",
       "       'Other service', 'Cleanliness', 'satisfaction'],\n",
       "      dtype='object')"
      ]
     },
     "execution_count": 3,
     "metadata": {},
     "output_type": "execute_result"
    }
   ],
   "source": [
    "eurohotels.columns"
   ]
  },
  {
   "cell_type": "markdown",
   "id": "7b02de0f",
   "metadata": {},
   "source": [
    "Categorical:\n",
    "'Gender'\n",
    "'purpose_of_travel'\n",
    "'Type of Travel'\n",
    "'Type Of Booking'\n",
    "'satisfaction'\n",
    "\n",
    "Numerical:\n",
    "'Age'\n",
    "'Hotel wifi service'\n",
    "'Departure/Arrival  convenience'\n",
    "'Ease of Online booking'\n",
    "'Hotel location'\n",
    "'Food and drink'\n",
    "'Stay comfort'\n",
    "'Common Room entertainment'\n",
    "'Checkin/Checkout service'\n",
    "'Other service'\n",
    "'Cleanliness'"
   ]
  },
  {
   "cell_type": "markdown",
   "id": "c9d46ed9",
   "metadata": {},
   "source": [
    "C. There are 58,879 entries that were neutral or dissatisfied. There are 45,025 entries that are satisfied. These two response make up 57% and 43% of the data respectively."
   ]
  },
  {
   "cell_type": "code",
   "execution_count": 4,
   "id": "4fcfb049",
   "metadata": {},
   "outputs": [
    {
     "data": {
      "text/plain": [
       "neutral or dissatisfied    58879\n",
       "satisfied                  45025\n",
       "Name: satisfaction, dtype: int64"
      ]
     },
     "execution_count": 4,
     "metadata": {},
     "output_type": "execute_result"
    }
   ],
   "source": [
    "eurohotels['satisfaction'].value_counts()"
   ]
  },
  {
   "cell_type": "code",
   "execution_count": 5,
   "id": "308026b5",
   "metadata": {},
   "outputs": [
    {
     "name": "stdout",
     "output_type": "stream",
     "text": [
      "neutral or dissatisfied: 0.5666673082845703\n",
      "satisfied: 0.43333269171542965\n"
     ]
    }
   ],
   "source": [
    "total = eurohotels['satisfaction'].value_counts()[0] + eurohotels['satisfaction'].value_counts()[1]\n",
    "print(f\"neutral or dissatisfied: {eurohotels['satisfaction'].value_counts()[0]/total}\")\n",
    "print(f\"satisfied: {eurohotels['satisfaction'].value_counts()[1]/total}\")"
   ]
  },
  {
   "cell_type": "markdown",
   "id": "5a9101ec",
   "metadata": {},
   "source": [
    "D."
   ]
  },
  {
   "cell_type": "code",
   "execution_count": 6,
   "id": "436112da",
   "metadata": {},
   "outputs": [],
   "source": [
    "from sklearn import preprocessing\n",
    "le = preprocessing.LabelEncoder()"
   ]
  },
  {
   "cell_type": "code",
   "execution_count": 7,
   "id": "6b01406d",
   "metadata": {},
   "outputs": [
    {
     "data": {
      "text/plain": [
       "['neutral or dissatisfied', 'satisfied']"
      ]
     },
     "execution_count": 7,
     "metadata": {},
     "output_type": "execute_result"
    }
   ],
   "source": [
    "le.fit(eurohotels['satisfaction'])\n",
    "list(le.classes_)"
   ]
  },
  {
   "cell_type": "code",
   "execution_count": 8,
   "id": "3890a53d",
   "metadata": {},
   "outputs": [],
   "source": [
    "satisfaction = le.transform(eurohotels['satisfaction'])\n",
    "eurohotels['satisfaction'] = satisfaction"
   ]
  },
  {
   "cell_type": "code",
   "execution_count": 9,
   "id": "beed6749",
   "metadata": {},
   "outputs": [
    {
     "data": {
      "text/html": [
       "<div>\n",
       "<style scoped>\n",
       "    .dataframe tbody tr th:only-of-type {\n",
       "        vertical-align: middle;\n",
       "    }\n",
       "\n",
       "    .dataframe tbody tr th {\n",
       "        vertical-align: top;\n",
       "    }\n",
       "\n",
       "    .dataframe thead th {\n",
       "        text-align: right;\n",
       "    }\n",
       "</style>\n",
       "<table border=\"1\" class=\"dataframe\">\n",
       "  <thead>\n",
       "    <tr style=\"text-align: right;\">\n",
       "      <th></th>\n",
       "      <th>id</th>\n",
       "      <th>Gender</th>\n",
       "      <th>Age</th>\n",
       "      <th>purpose_of_travel</th>\n",
       "      <th>Type of Travel</th>\n",
       "      <th>Type Of Booking</th>\n",
       "      <th>Hotel wifi service</th>\n",
       "      <th>Departure/Arrival  convenience</th>\n",
       "      <th>Ease of Online booking</th>\n",
       "      <th>Hotel location</th>\n",
       "      <th>Food and drink</th>\n",
       "      <th>Stay comfort</th>\n",
       "      <th>Common Room entertainment</th>\n",
       "      <th>Checkin/Checkout service</th>\n",
       "      <th>Other service</th>\n",
       "      <th>Cleanliness</th>\n",
       "      <th>satisfaction</th>\n",
       "    </tr>\n",
       "  </thead>\n",
       "  <tbody>\n",
       "    <tr>\n",
       "      <th>0</th>\n",
       "      <td>70172</td>\n",
       "      <td>Male</td>\n",
       "      <td>13</td>\n",
       "      <td>aviation</td>\n",
       "      <td>Personal Travel</td>\n",
       "      <td>Not defined</td>\n",
       "      <td>3</td>\n",
       "      <td>4</td>\n",
       "      <td>3</td>\n",
       "      <td>1</td>\n",
       "      <td>5</td>\n",
       "      <td>5</td>\n",
       "      <td>5</td>\n",
       "      <td>4</td>\n",
       "      <td>5</td>\n",
       "      <td>5</td>\n",
       "      <td>0</td>\n",
       "    </tr>\n",
       "    <tr>\n",
       "      <th>1</th>\n",
       "      <td>5047</td>\n",
       "      <td>Male</td>\n",
       "      <td>25</td>\n",
       "      <td>tourism</td>\n",
       "      <td>Group Travel</td>\n",
       "      <td>Group bookings</td>\n",
       "      <td>3</td>\n",
       "      <td>2</td>\n",
       "      <td>3</td>\n",
       "      <td>3</td>\n",
       "      <td>1</td>\n",
       "      <td>1</td>\n",
       "      <td>1</td>\n",
       "      <td>1</td>\n",
       "      <td>4</td>\n",
       "      <td>1</td>\n",
       "      <td>0</td>\n",
       "    </tr>\n",
       "    <tr>\n",
       "      <th>2</th>\n",
       "      <td>110028</td>\n",
       "      <td>Female</td>\n",
       "      <td>26</td>\n",
       "      <td>tourism</td>\n",
       "      <td>Group Travel</td>\n",
       "      <td>Group bookings</td>\n",
       "      <td>2</td>\n",
       "      <td>2</td>\n",
       "      <td>2</td>\n",
       "      <td>2</td>\n",
       "      <td>5</td>\n",
       "      <td>5</td>\n",
       "      <td>5</td>\n",
       "      <td>4</td>\n",
       "      <td>4</td>\n",
       "      <td>5</td>\n",
       "      <td>1</td>\n",
       "    </tr>\n",
       "    <tr>\n",
       "      <th>3</th>\n",
       "      <td>24026</td>\n",
       "      <td>Female</td>\n",
       "      <td>25</td>\n",
       "      <td>tourism</td>\n",
       "      <td>Group Travel</td>\n",
       "      <td>Group bookings</td>\n",
       "      <td>2</td>\n",
       "      <td>5</td>\n",
       "      <td>5</td>\n",
       "      <td>5</td>\n",
       "      <td>2</td>\n",
       "      <td>2</td>\n",
       "      <td>2</td>\n",
       "      <td>1</td>\n",
       "      <td>4</td>\n",
       "      <td>2</td>\n",
       "      <td>0</td>\n",
       "    </tr>\n",
       "    <tr>\n",
       "      <th>4</th>\n",
       "      <td>119299</td>\n",
       "      <td>Male</td>\n",
       "      <td>61</td>\n",
       "      <td>aviation</td>\n",
       "      <td>Group Travel</td>\n",
       "      <td>Group bookings</td>\n",
       "      <td>3</td>\n",
       "      <td>3</td>\n",
       "      <td>3</td>\n",
       "      <td>3</td>\n",
       "      <td>4</td>\n",
       "      <td>5</td>\n",
       "      <td>3</td>\n",
       "      <td>3</td>\n",
       "      <td>3</td>\n",
       "      <td>3</td>\n",
       "      <td>1</td>\n",
       "    </tr>\n",
       "  </tbody>\n",
       "</table>\n",
       "</div>"
      ],
      "text/plain": [
       "       id  Gender  Age purpose_of_travel   Type of Travel Type Of Booking  \\\n",
       "0   70172    Male   13          aviation  Personal Travel     Not defined   \n",
       "1    5047    Male   25           tourism     Group Travel  Group bookings   \n",
       "2  110028  Female   26           tourism     Group Travel  Group bookings   \n",
       "3   24026  Female   25           tourism     Group Travel  Group bookings   \n",
       "4  119299    Male   61          aviation     Group Travel  Group bookings   \n",
       "\n",
       "   Hotel wifi service  Departure/Arrival  convenience  Ease of Online booking  \\\n",
       "0                   3                               4                       3   \n",
       "1                   3                               2                       3   \n",
       "2                   2                               2                       2   \n",
       "3                   2                               5                       5   \n",
       "4                   3                               3                       3   \n",
       "\n",
       "   Hotel location  Food and drink  Stay comfort  Common Room entertainment  \\\n",
       "0               1               5             5                          5   \n",
       "1               3               1             1                          1   \n",
       "2               2               5             5                          5   \n",
       "3               5               2             2                          2   \n",
       "4               3               4             5                          3   \n",
       "\n",
       "   Checkin/Checkout service  Other service  Cleanliness  satisfaction  \n",
       "0                         4              5            5             0  \n",
       "1                         1              4            1             0  \n",
       "2                         4              4            5             1  \n",
       "3                         1              4            2             0  \n",
       "4                         3              3            3             1  "
      ]
     },
     "execution_count": 9,
     "metadata": {},
     "output_type": "execute_result"
    }
   ],
   "source": [
    "eurohotels.head()"
   ]
  },
  {
   "cell_type": "markdown",
   "id": "f409ecbe",
   "metadata": {},
   "source": [
    "Looking at the satisfaction column, they've all been converted to either 0s or 1s which correspond to neutral/dissatisfied and satisfied respectively"
   ]
  },
  {
   "cell_type": "markdown",
   "id": "05725649",
   "metadata": {},
   "source": [
    "E."
   ]
  },
  {
   "cell_type": "markdown",
   "id": "bdcd95af",
   "metadata": {},
   "source": [
    "You do not need to dummify the categorical variables to make an accurate model. However, you will need to use the label encoder to transform them. I tried this method worked and it led to .83 accuracy.\n",
    "\n",
    "Although not dummfying worked, I think it is better to do so. Dummifying the variables makes it easier to analyze which of the categorical responses had more weight when looking at the coefficients. Without dummifying it just shows \"Type of Travel\" having a high coefficient. I don't know what this means because \"Type of Travel\" isn't on any kind of scale. I want to know which category of travel had a high impact."
   ]
  },
  {
   "cell_type": "markdown",
   "id": "7f697cf4",
   "metadata": {},
   "source": [
    "Below, this is dummifying the categorical variables"
   ]
  },
  {
   "cell_type": "code",
   "execution_count": 10,
   "id": "5161d15f",
   "metadata": {},
   "outputs": [
    {
     "data": {
      "text/html": [
       "<div>\n",
       "<style scoped>\n",
       "    .dataframe tbody tr th:only-of-type {\n",
       "        vertical-align: middle;\n",
       "    }\n",
       "\n",
       "    .dataframe tbody tr th {\n",
       "        vertical-align: top;\n",
       "    }\n",
       "\n",
       "    .dataframe thead th {\n",
       "        text-align: right;\n",
       "    }\n",
       "</style>\n",
       "<table border=\"1\" class=\"dataframe\">\n",
       "  <thead>\n",
       "    <tr style=\"text-align: right;\">\n",
       "      <th></th>\n",
       "      <th>id</th>\n",
       "      <th>Age</th>\n",
       "      <th>Hotel wifi service</th>\n",
       "      <th>Departure/Arrival  convenience</th>\n",
       "      <th>Ease of Online booking</th>\n",
       "      <th>Hotel location</th>\n",
       "      <th>Food and drink</th>\n",
       "      <th>Stay comfort</th>\n",
       "      <th>Common Room entertainment</th>\n",
       "      <th>Checkin/Checkout service</th>\n",
       "      <th>...</th>\n",
       "      <th>Cleanliness</th>\n",
       "      <th>satisfaction</th>\n",
       "      <th>Gender_Male</th>\n",
       "      <th>purpose_of_travel_aviation</th>\n",
       "      <th>purpose_of_travel_business</th>\n",
       "      <th>purpose_of_travel_personal</th>\n",
       "      <th>purpose_of_travel_tourism</th>\n",
       "      <th>Type of Travel_Personal Travel</th>\n",
       "      <th>Type Of Booking_Individual/Couple</th>\n",
       "      <th>Type Of Booking_Not defined</th>\n",
       "    </tr>\n",
       "  </thead>\n",
       "  <tbody>\n",
       "    <tr>\n",
       "      <th>0</th>\n",
       "      <td>70172</td>\n",
       "      <td>13</td>\n",
       "      <td>3</td>\n",
       "      <td>4</td>\n",
       "      <td>3</td>\n",
       "      <td>1</td>\n",
       "      <td>5</td>\n",
       "      <td>5</td>\n",
       "      <td>5</td>\n",
       "      <td>4</td>\n",
       "      <td>...</td>\n",
       "      <td>5</td>\n",
       "      <td>0</td>\n",
       "      <td>1</td>\n",
       "      <td>1</td>\n",
       "      <td>0</td>\n",
       "      <td>0</td>\n",
       "      <td>0</td>\n",
       "      <td>1</td>\n",
       "      <td>0</td>\n",
       "      <td>1</td>\n",
       "    </tr>\n",
       "    <tr>\n",
       "      <th>1</th>\n",
       "      <td>5047</td>\n",
       "      <td>25</td>\n",
       "      <td>3</td>\n",
       "      <td>2</td>\n",
       "      <td>3</td>\n",
       "      <td>3</td>\n",
       "      <td>1</td>\n",
       "      <td>1</td>\n",
       "      <td>1</td>\n",
       "      <td>1</td>\n",
       "      <td>...</td>\n",
       "      <td>1</td>\n",
       "      <td>0</td>\n",
       "      <td>1</td>\n",
       "      <td>0</td>\n",
       "      <td>0</td>\n",
       "      <td>0</td>\n",
       "      <td>1</td>\n",
       "      <td>0</td>\n",
       "      <td>0</td>\n",
       "      <td>0</td>\n",
       "    </tr>\n",
       "    <tr>\n",
       "      <th>2</th>\n",
       "      <td>110028</td>\n",
       "      <td>26</td>\n",
       "      <td>2</td>\n",
       "      <td>2</td>\n",
       "      <td>2</td>\n",
       "      <td>2</td>\n",
       "      <td>5</td>\n",
       "      <td>5</td>\n",
       "      <td>5</td>\n",
       "      <td>4</td>\n",
       "      <td>...</td>\n",
       "      <td>5</td>\n",
       "      <td>1</td>\n",
       "      <td>0</td>\n",
       "      <td>0</td>\n",
       "      <td>0</td>\n",
       "      <td>0</td>\n",
       "      <td>1</td>\n",
       "      <td>0</td>\n",
       "      <td>0</td>\n",
       "      <td>0</td>\n",
       "    </tr>\n",
       "    <tr>\n",
       "      <th>3</th>\n",
       "      <td>24026</td>\n",
       "      <td>25</td>\n",
       "      <td>2</td>\n",
       "      <td>5</td>\n",
       "      <td>5</td>\n",
       "      <td>5</td>\n",
       "      <td>2</td>\n",
       "      <td>2</td>\n",
       "      <td>2</td>\n",
       "      <td>1</td>\n",
       "      <td>...</td>\n",
       "      <td>2</td>\n",
       "      <td>0</td>\n",
       "      <td>0</td>\n",
       "      <td>0</td>\n",
       "      <td>0</td>\n",
       "      <td>0</td>\n",
       "      <td>1</td>\n",
       "      <td>0</td>\n",
       "      <td>0</td>\n",
       "      <td>0</td>\n",
       "    </tr>\n",
       "    <tr>\n",
       "      <th>4</th>\n",
       "      <td>119299</td>\n",
       "      <td>61</td>\n",
       "      <td>3</td>\n",
       "      <td>3</td>\n",
       "      <td>3</td>\n",
       "      <td>3</td>\n",
       "      <td>4</td>\n",
       "      <td>5</td>\n",
       "      <td>3</td>\n",
       "      <td>3</td>\n",
       "      <td>...</td>\n",
       "      <td>3</td>\n",
       "      <td>1</td>\n",
       "      <td>1</td>\n",
       "      <td>1</td>\n",
       "      <td>0</td>\n",
       "      <td>0</td>\n",
       "      <td>0</td>\n",
       "      <td>0</td>\n",
       "      <td>0</td>\n",
       "      <td>0</td>\n",
       "    </tr>\n",
       "  </tbody>\n",
       "</table>\n",
       "<p>5 rows × 21 columns</p>\n",
       "</div>"
      ],
      "text/plain": [
       "       id  Age  Hotel wifi service  Departure/Arrival  convenience  \\\n",
       "0   70172   13                   3                               4   \n",
       "1    5047   25                   3                               2   \n",
       "2  110028   26                   2                               2   \n",
       "3   24026   25                   2                               5   \n",
       "4  119299   61                   3                               3   \n",
       "\n",
       "   Ease of Online booking  Hotel location  Food and drink  Stay comfort  \\\n",
       "0                       3               1               5             5   \n",
       "1                       3               3               1             1   \n",
       "2                       2               2               5             5   \n",
       "3                       5               5               2             2   \n",
       "4                       3               3               4             5   \n",
       "\n",
       "   Common Room entertainment  Checkin/Checkout service  ...  Cleanliness  \\\n",
       "0                          5                         4  ...            5   \n",
       "1                          1                         1  ...            1   \n",
       "2                          5                         4  ...            5   \n",
       "3                          2                         1  ...            2   \n",
       "4                          3                         3  ...            3   \n",
       "\n",
       "   satisfaction  Gender_Male  purpose_of_travel_aviation  \\\n",
       "0             0            1                           1   \n",
       "1             0            1                           0   \n",
       "2             1            0                           0   \n",
       "3             0            0                           0   \n",
       "4             1            1                           1   \n",
       "\n",
       "   purpose_of_travel_business  purpose_of_travel_personal  \\\n",
       "0                           0                           0   \n",
       "1                           0                           0   \n",
       "2                           0                           0   \n",
       "3                           0                           0   \n",
       "4                           0                           0   \n",
       "\n",
       "   purpose_of_travel_tourism  Type of Travel_Personal Travel  \\\n",
       "0                          0                               1   \n",
       "1                          1                               0   \n",
       "2                          1                               0   \n",
       "3                          1                               0   \n",
       "4                          0                               0   \n",
       "\n",
       "   Type Of Booking_Individual/Couple  Type Of Booking_Not defined  \n",
       "0                                  0                            1  \n",
       "1                                  0                            0  \n",
       "2                                  0                            0  \n",
       "3                                  0                            0  \n",
       "4                                  0                            0  \n",
       "\n",
       "[5 rows x 21 columns]"
      ]
     },
     "execution_count": 10,
     "metadata": {},
     "output_type": "execute_result"
    }
   ],
   "source": [
    "eurohotels2 = eurohotels.copy(deep = True)\n",
    "\n",
    "eurohotels2 = pd.get_dummies(eurohotels2, \n",
    "                                  columns=['Gender', 'purpose_of_travel', 'Type of Travel','Type Of Booking'], \n",
    "                                  drop_first=True)\n",
    "eurohotels2.head()"
   ]
  },
  {
   "cell_type": "markdown",
   "id": "001024d0",
   "metadata": {},
   "source": [
    "I also tried standardizing the data to make the model more accurate. This did help with accuracy somewhat, however, it makes predicting on new entries like we do later in the assignment a nightmare. You'd have to add the entry back into the data set, restandardize, and then pull it back out to predict on it. I chose to just leave the variables non-standardized for ease of use."
   ]
  },
  {
   "cell_type": "markdown",
   "id": "ca7a5c1c",
   "metadata": {},
   "source": [
    "F."
   ]
  },
  {
   "cell_type": "code",
   "execution_count": 11,
   "id": "fd8adc7c",
   "metadata": {},
   "outputs": [
    {
     "data": {
      "text/plain": [
       "Index(['id', 'Age', 'Hotel wifi service', 'Departure/Arrival  convenience',\n",
       "       'Ease of Online booking', 'Hotel location', 'Food and drink',\n",
       "       'Stay comfort', 'Common Room entertainment', 'Checkin/Checkout service',\n",
       "       'Other service', 'Cleanliness', 'satisfaction', 'Gender_Male',\n",
       "       'purpose_of_travel_aviation', 'purpose_of_travel_business',\n",
       "       'purpose_of_travel_personal', 'purpose_of_travel_tourism',\n",
       "       'Type of Travel_Personal Travel', 'Type Of Booking_Individual/Couple',\n",
       "       'Type Of Booking_Not defined'],\n",
       "      dtype='object')"
      ]
     },
     "execution_count": 11,
     "metadata": {},
     "output_type": "execute_result"
    }
   ],
   "source": [
    "eurohotels2.columns"
   ]
  },
  {
   "cell_type": "code",
   "execution_count": 12,
   "id": "a450f082",
   "metadata": {},
   "outputs": [],
   "source": [
    "X = eurohotels2[['Age', 'Hotel wifi service', 'Departure/Arrival  convenience',\n",
    "       'Ease of Online booking', 'Hotel location', 'Food and drink',\n",
    "       'Stay comfort', 'Common Room entertainment', 'Checkin/Checkout service',\n",
    "       'Other service', 'Cleanliness', 'Gender_Male',\n",
    "       'purpose_of_travel_aviation', 'purpose_of_travel_business',\n",
    "       'purpose_of_travel_personal', 'purpose_of_travel_tourism',\n",
    "       'Type of Travel_Personal Travel', 'Type Of Booking_Individual/Couple',\n",
    "       'Type Of Booking_Not defined']]\n",
    "y = satisfaction"
   ]
  },
  {
   "cell_type": "code",
   "execution_count": 13,
   "id": "ccc962bc",
   "metadata": {},
   "outputs": [],
   "source": [
    "from sklearn.model_selection import train_test_split\n",
    "\n",
    "X_train, X_test, y_train, y_test = train_test_split(X, y, test_size=0.4, random_state=426)"
   ]
  },
  {
   "cell_type": "markdown",
   "id": "df0264c6",
   "metadata": {},
   "source": [
    "I chose to use my brithday as the data partition (April 26th)"
   ]
  },
  {
   "cell_type": "markdown",
   "id": "6a11fd8e",
   "metadata": {},
   "source": [
    "G."
   ]
  },
  {
   "cell_type": "code",
   "execution_count": 14,
   "id": "fbb0e72a",
   "metadata": {},
   "outputs": [
    {
     "name": "stderr",
     "output_type": "stream",
     "text": [
      "/Users/russelllaros/opt/anaconda3/lib/python3.9/site-packages/sklearn/linear_model/_logistic.py:763: ConvergenceWarning: lbfgs failed to converge (status=1):\n",
      "STOP: TOTAL NO. of ITERATIONS REACHED LIMIT.\n",
      "\n",
      "Increase the number of iterations (max_iter) or scale the data as shown in:\n",
      "    https://scikit-learn.org/stable/modules/preprocessing.html\n",
      "Please also refer to the documentation for alternative solver options:\n",
      "    https://scikit-learn.org/stable/modules/linear_model.html#logistic-regression\n",
      "  n_iter_i = _check_optimize_result(\n"
     ]
    },
    {
     "data": {
      "text/plain": [
       "LogisticRegression()"
      ]
     },
     "execution_count": 14,
     "metadata": {},
     "output_type": "execute_result"
    }
   ],
   "source": [
    "from sklearn.linear_model import LogisticRegression\n",
    "\n",
    "logmodel = LogisticRegression()\n",
    "logmodel.fit(X_train, y_train)"
   ]
  },
  {
   "cell_type": "markdown",
   "id": "76d86d3a",
   "metadata": {},
   "source": [
    "H. Now here you can see the two different model outputs, one with dummified categorical variables and one without"
   ]
  },
  {
   "cell_type": "code",
   "execution_count": 15,
   "id": "704278fe",
   "metadata": {},
   "outputs": [
    {
     "data": {
      "text/html": [
       "<div>\n",
       "<style scoped>\n",
       "    .dataframe tbody tr th:only-of-type {\n",
       "        vertical-align: middle;\n",
       "    }\n",
       "\n",
       "    .dataframe tbody tr th {\n",
       "        vertical-align: top;\n",
       "    }\n",
       "\n",
       "    .dataframe thead th {\n",
       "        text-align: right;\n",
       "    }\n",
       "</style>\n",
       "<table border=\"1\" class=\"dataframe\">\n",
       "  <thead>\n",
       "    <tr style=\"text-align: right;\">\n",
       "      <th></th>\n",
       "      <th>coef</th>\n",
       "    </tr>\n",
       "  </thead>\n",
       "  <tbody>\n",
       "    <tr>\n",
       "      <th>Hotel wifi service</th>\n",
       "      <td>0.590196</td>\n",
       "    </tr>\n",
       "    <tr>\n",
       "      <th>Common Room entertainment</th>\n",
       "      <td>0.450789</td>\n",
       "    </tr>\n",
       "    <tr>\n",
       "      <th>Checkin/Checkout service</th>\n",
       "      <td>0.293415</td>\n",
       "    </tr>\n",
       "    <tr>\n",
       "      <th>Stay comfort</th>\n",
       "      <td>0.193219</td>\n",
       "    </tr>\n",
       "    <tr>\n",
       "      <th>Cleanliness</th>\n",
       "      <td>0.111209</td>\n",
       "    </tr>\n",
       "    <tr>\n",
       "      <th>Other service</th>\n",
       "      <td>0.090231</td>\n",
       "    </tr>\n",
       "    <tr>\n",
       "      <th>Age</th>\n",
       "      <td>0.010493</td>\n",
       "    </tr>\n",
       "    <tr>\n",
       "      <th>Gender_Male</th>\n",
       "      <td>-0.020435</td>\n",
       "    </tr>\n",
       "    <tr>\n",
       "      <th>Ease of Online booking</th>\n",
       "      <td>-0.036433</td>\n",
       "    </tr>\n",
       "    <tr>\n",
       "      <th>Departure/Arrival  convenience</th>\n",
       "      <td>-0.049552</td>\n",
       "    </tr>\n",
       "    <tr>\n",
       "      <th>Food and drink</th>\n",
       "      <td>-0.131527</td>\n",
       "    </tr>\n",
       "    <tr>\n",
       "      <th>purpose_of_travel_tourism</th>\n",
       "      <td>-0.160729</td>\n",
       "    </tr>\n",
       "    <tr>\n",
       "      <th>Hotel location</th>\n",
       "      <td>-0.176407</td>\n",
       "    </tr>\n",
       "    <tr>\n",
       "      <th>purpose_of_travel_business</th>\n",
       "      <td>-0.213898</td>\n",
       "    </tr>\n",
       "    <tr>\n",
       "      <th>purpose_of_travel_personal</th>\n",
       "      <td>-0.246187</td>\n",
       "    </tr>\n",
       "    <tr>\n",
       "      <th>purpose_of_travel_aviation</th>\n",
       "      <td>-0.286429</td>\n",
       "    </tr>\n",
       "    <tr>\n",
       "      <th>Type Of Booking_Individual/Couple</th>\n",
       "      <td>-1.568979</td>\n",
       "    </tr>\n",
       "    <tr>\n",
       "      <th>Type of Travel_Personal Travel</th>\n",
       "      <td>-1.640597</td>\n",
       "    </tr>\n",
       "    <tr>\n",
       "      <th>Type Of Booking_Not defined</th>\n",
       "      <td>-1.777357</td>\n",
       "    </tr>\n",
       "  </tbody>\n",
       "</table>\n",
       "</div>"
      ],
      "text/plain": [
       "                                       coef\n",
       "Hotel wifi service                 0.590196\n",
       "Common Room entertainment          0.450789\n",
       "Checkin/Checkout service           0.293415\n",
       "Stay comfort                       0.193219\n",
       "Cleanliness                        0.111209\n",
       "Other service                      0.090231\n",
       "Age                                0.010493\n",
       "Gender_Male                       -0.020435\n",
       "Ease of Online booking            -0.036433\n",
       "Departure/Arrival  convenience    -0.049552\n",
       "Food and drink                    -0.131527\n",
       "purpose_of_travel_tourism         -0.160729\n",
       "Hotel location                    -0.176407\n",
       "purpose_of_travel_business        -0.213898\n",
       "purpose_of_travel_personal        -0.246187\n",
       "purpose_of_travel_aviation        -0.286429\n",
       "Type Of Booking_Individual/Couple -1.568979\n",
       "Type of Travel_Personal Travel    -1.640597\n",
       "Type Of Booking_Not defined       -1.777357"
      ]
     },
     "execution_count": 15,
     "metadata": {},
     "output_type": "execute_result"
    }
   ],
   "source": [
    "log_odds = logmodel.coef_[0]\n",
    "\n",
    "pd.DataFrame(log_odds, \n",
    "             X.columns, \n",
    "             columns=['coef'])\\\n",
    "            .sort_values(by='coef', ascending=False)"
   ]
  },
  {
   "cell_type": "markdown",
   "id": "a280fb92",
   "metadata": {},
   "source": [
    "The above coefficients tell a better story of the data. You can see which types of travel or types of bookings had more weight on the model. Apparently, people who traveled for personal reasons were likely to not be satisfied.\n",
    "\n",
    "There is a strong relationship between the quality of the hotel wifi service and whether the respondent was satisfied or not. This makes a lot of sense. Many people today, whether they are traveling for leisure, business, or aviation, all want relaible and fast access to the internet."
   ]
  },
  {
   "cell_type": "markdown",
   "id": "70dc191b",
   "metadata": {},
   "source": [
    "I."
   ]
  },
  {
   "cell_type": "code",
   "execution_count": 16,
   "id": "1514a7b3",
   "metadata": {},
   "outputs": [
    {
     "data": {
      "image/png": "[encoded data removed]",
      "text/plain": [
       "<Figure size 432x288 with 1 Axes>"
      ]
     },
     "metadata": {
      "needs_background": "light"
     },
     "output_type": "display_data"
    }
   ],
   "source": [
    "predictions = logmodel.predict(X_test)\n",
    "\n",
    "%matplotlib inline\n",
    "import matplotlib.pyplot as plt\n",
    "import seaborn as sns\n",
    "from sklearn.metrics import confusion_matrix\n",
    "mat = confusion_matrix(predictions, y_test)\n",
    "sns.heatmap(mat, square=True, annot=True, cbar=False, fmt='g')\n",
    "plt.xlabel(\"Actual Result\")\n",
    "plt.ylabel(\"Predicted Result\")\n",
    "a, b = plt.ylim() \n",
    "a += 0.01 \n",
    "b -= 0.01 \n",
    "plt.ylim(a, b)\n",
    "plt.show() "
   ]
  },
  {
   "cell_type": "markdown",
   "id": "b4573f1d",
   "metadata": {},
   "source": [
    "accuracy:"
   ]
  },
  {
   "cell_type": "code",
   "execution_count": 17,
   "id": "7ddc814b",
   "metadata": {},
   "outputs": [
    {
     "name": "stdout",
     "output_type": "stream",
     "text": [
      "Accuracy: 0.8396852894470911\n",
      "Sensitivity: 0.8190985570226753\n",
      "Specificity: 0.8553339262270783\n",
      "Precision: 0.8114582183463959\n",
      "Balanced Accuracy: 0.8372162416248767\n"
     ]
    }
   ],
   "source": [
    "acc = (mat[0][0] + mat[1][1])/mat.sum()\n",
    "print(\"Accuracy:\",acc)\n",
    "\n",
    "sen = (mat[1][1])/(mat[1][1] + mat[0][1])\n",
    "print(\"Sensitivity:\",sen)\n",
    "\n",
    "spe = (mat[0][0])/(mat[0][0] + mat[1][0])\n",
    "print(\"Specificity:\",spe)\n",
    "\n",
    "pre = (mat[1][1])/(mat[1][0] + mat[1][1])\n",
    "print(\"Precision:\",pre)\n",
    "\n",
    "print(\"Balanced Accuracy:\",(sen + spe)/2)"
   ]
  },
  {
   "cell_type": "markdown",
   "id": "c73d00d1",
   "metadata": {},
   "source": [
    "J."
   ]
  },
  {
   "cell_type": "code",
   "execution_count": 19,
   "id": "573cef5f",
   "metadata": {},
   "outputs": [
    {
     "name": "stdout",
     "output_type": "stream",
     "text": [
      "Training Data Accuracy: 0.8411023066311636\n",
      "Test Data Accuracy: 0.8396852894470911\n"
     ]
    }
   ],
   "source": [
    "from sklearn import metrics\n",
    "predictions2 = logmodel.predict(X_train)\n",
    "print(\"Training Data Accuracy:\",metrics.accuracy_score(y_train, predictions2))\n",
    "print(\"Test Data Accuracy:\",metrics.accuracy_score(y_test, predictions))"
   ]
  },
  {
   "cell_type": "markdown",
   "id": "f100cddf",
   "metadata": {},
   "source": [
    "Comparing these two accruacy measures can show us if overfitting is happening. If their was a large discrepancy between the training and test accuracies it would mean the model overfit to the training data.\n",
    "\n",
    "For this model it looks like it is not overfitting very bad (the training data is only 0.2%~ more accurate)"
   ]
  },
  {
   "cell_type": "markdown",
   "id": "e2ad9fee",
   "metadata": {},
   "source": [
    "K."
   ]
  },
  {
   "cell_type": "code",
   "execution_count": 20,
   "id": "b1c74ebb",
   "metadata": {},
   "outputs": [],
   "source": [
    "eurohotels4 = eurohotels.copy(deep = True)\n",
    "eurohotels4 = pd.get_dummies(eurohotels4, \n",
    "                                  columns=['Gender', 'purpose_of_travel', 'Type of Travel','Type Of Booking'], \n",
    "                                  drop_first=True)"
   ]
  },
  {
   "cell_type": "code",
   "execution_count": 28,
   "id": "83975f94",
   "metadata": {},
   "outputs": [
    {
     "data": {
      "text/html": [
       "<div>\n",
       "<style scoped>\n",
       "    .dataframe tbody tr th:only-of-type {\n",
       "        vertical-align: middle;\n",
       "    }\n",
       "\n",
       "    .dataframe tbody tr th {\n",
       "        vertical-align: top;\n",
       "    }\n",
       "\n",
       "    .dataframe thead th {\n",
       "        text-align: right;\n",
       "    }\n",
       "</style>\n",
       "<table border=\"1\" class=\"dataframe\">\n",
       "  <thead>\n",
       "    <tr style=\"text-align: right;\">\n",
       "      <th></th>\n",
       "      <th>id</th>\n",
       "      <th>Age</th>\n",
       "      <th>Hotel wifi service</th>\n",
       "      <th>Departure/Arrival  convenience</th>\n",
       "      <th>Ease of Online booking</th>\n",
       "      <th>Hotel location</th>\n",
       "      <th>Food and drink</th>\n",
       "      <th>Stay comfort</th>\n",
       "      <th>Common Room entertainment</th>\n",
       "      <th>Checkin/Checkout service</th>\n",
       "      <th>...</th>\n",
       "      <th>Cleanliness</th>\n",
       "      <th>satisfaction</th>\n",
       "      <th>Gender_Male</th>\n",
       "      <th>purpose_of_travel_aviation</th>\n",
       "      <th>purpose_of_travel_business</th>\n",
       "      <th>purpose_of_travel_personal</th>\n",
       "      <th>purpose_of_travel_tourism</th>\n",
       "      <th>Type of Travel_Personal Travel</th>\n",
       "      <th>Type Of Booking_Individual/Couple</th>\n",
       "      <th>Type Of Booking_Not defined</th>\n",
       "    </tr>\n",
       "  </thead>\n",
       "  <tbody>\n",
       "    <tr>\n",
       "      <th>53891</th>\n",
       "      <td>34150</td>\n",
       "      <td>32</td>\n",
       "      <td>2</td>\n",
       "      <td>3</td>\n",
       "      <td>3</td>\n",
       "      <td>3</td>\n",
       "      <td>2</td>\n",
       "      <td>2</td>\n",
       "      <td>2</td>\n",
       "      <td>3</td>\n",
       "      <td>...</td>\n",
       "      <td>2</td>\n",
       "      <td>0</td>\n",
       "      <td>0</td>\n",
       "      <td>0</td>\n",
       "      <td>0</td>\n",
       "      <td>0</td>\n",
       "      <td>0</td>\n",
       "      <td>0</td>\n",
       "      <td>1</td>\n",
       "      <td>0</td>\n",
       "    </tr>\n",
       "  </tbody>\n",
       "</table>\n",
       "<p>1 rows × 21 columns</p>\n",
       "</div>"
      ],
      "text/plain": [
       "          id  Age  Hotel wifi service  Departure/Arrival  convenience  \\\n",
       "53891  34150   32                   2                               3   \n",
       "\n",
       "       Ease of Online booking  Hotel location  Food and drink  Stay comfort  \\\n",
       "53891                       3               3               2             2   \n",
       "\n",
       "       Common Room entertainment  Checkin/Checkout service  ...  Cleanliness  \\\n",
       "53891                          2                         3  ...            2   \n",
       "\n",
       "       satisfaction  Gender_Male  purpose_of_travel_aviation  \\\n",
       "53891             0            0                           0   \n",
       "\n",
       "       purpose_of_travel_business  purpose_of_travel_personal  \\\n",
       "53891                           0                           0   \n",
       "\n",
       "       purpose_of_travel_tourism  Type of Travel_Personal Travel  \\\n",
       "53891                          0                               0   \n",
       "\n",
       "       Type Of Booking_Individual/Couple  Type Of Booking_Not defined  \n",
       "53891                                  1                            0  \n",
       "\n",
       "[1 rows x 21 columns]"
      ]
     },
     "execution_count": 28,
     "metadata": {},
     "output_type": "execute_result"
    }
   ],
   "source": [
    "sample = eurohotels4.sample(random_state=30)\n",
    "sample"
   ]
  },
  {
   "cell_type": "code",
   "execution_count": 22,
   "id": "e961544c",
   "metadata": {},
   "outputs": [],
   "source": [
    "NewGuy = pd.DataFrame([{'Age':25, 'Hotel wifi service':1, 'Departure/Arrival  convenience':5,\n",
    "                        'Ease of Online booking':5, 'Hotel location':5, 'Food and drink':5,\n",
    "                        'Stay comfort':5, 'Common Room entertainment':5, 'Checkin/Checkout service':5,\n",
    "                        'Other service':5, 'Cleanliness':5, 'Gender_Male':1,\n",
    "                        'purpose_of_travel_aviation':0, 'purpose_of_travel_business':0,\n",
    "                        'purpose_of_travel_personal':0, 'purpose_of_travel_tourism':1,\n",
    "                        'Type of Travel_Personal Travel':0, 'Type Of Booking_Individual/Couple':1,\n",
    "                        'Type Of Booking_Not defined':0}])"
   ]
  },
  {
   "cell_type": "code",
   "execution_count": 29,
   "id": "937983f3",
   "metadata": {},
   "outputs": [
    {
     "name": "stderr",
     "output_type": "stream",
     "text": [
      "/Users/russelllaros/opt/anaconda3/lib/python3.9/site-packages/sklearn/linear_model/_logistic.py:763: ConvergenceWarning: lbfgs failed to converge (status=1):\n",
      "STOP: TOTAL NO. of ITERATIONS REACHED LIMIT.\n",
      "\n",
      "Increase the number of iterations (max_iter) or scale the data as shown in:\n",
      "    https://scikit-learn.org/stable/modules/preprocessing.html\n",
      "Please also refer to the documentation for alternative solver options:\n",
      "    https://scikit-learn.org/stable/modules/linear_model.html#logistic-regression\n",
      "  n_iter_i = _check_optimize_result(\n"
     ]
    },
    {
     "data": {
      "text/plain": [
       "array([0])"
      ]
     },
     "execution_count": 29,
     "metadata": {},
     "output_type": "execute_result"
    }
   ],
   "source": [
    "X2 = eurohotels4[['Age', 'Hotel wifi service', 'Departure/Arrival  convenience',\n",
    "       'Ease of Online booking', 'Hotel location', 'Food and drink',\n",
    "       'Stay comfort', 'Common Room entertainment', 'Checkin/Checkout service',\n",
    "       'Other service', 'Cleanliness', 'Gender_Male',\n",
    "       'purpose_of_travel_aviation', 'purpose_of_travel_business',\n",
    "       'purpose_of_travel_personal', 'purpose_of_travel_tourism',\n",
    "       'Type of Travel_Personal Travel', 'Type Of Booking_Individual/Couple',\n",
    "       'Type Of Booking_Not defined']]\n",
    "y2 = satisfaction\n",
    "\n",
    "X2_train, X2_test, y2_train, y2_test = train_test_split(X2, y2, test_size=0.4, random_state=426)\n",
    "\n",
    "logmodel2 = LogisticRegression()\n",
    "logmodel2.fit(X2_train, y2_train)\n",
    "\n",
    "prediction = logmodel2.predict(NewGuy)\n",
    "prediction"
   ]
  },
  {
   "cell_type": "markdown",
   "id": "afb6f7f7",
   "metadata": {},
   "source": [
    "The made up person was not satisfied. I gave the model all 5s except for the wifi score, which I gave a 1. Go's to show how important a good wifi score is for satisfaction according to this data.\n",
    "\n",
    "There is a 81% chance that the person is actually satisfied (precision)"
   ]
  },
  {
   "cell_type": "code",
   "execution_count": 30,
   "id": "a4191a4a",
   "metadata": {},
   "outputs": [
    {
     "data": {
      "text/plain": [
       "0.8114582183463959"
      ]
     },
     "execution_count": 30,
     "metadata": {},
     "output_type": "execute_result"
    }
   ],
   "source": [
    "pre"
   ]
  },
  {
   "cell_type": "markdown",
   "id": "1afe429f",
   "metadata": {},
   "source": [
    "L."
   ]
  },
  {
   "cell_type": "code",
   "execution_count": 31,
   "id": "84f486b3",
   "metadata": {},
   "outputs": [
    {
     "data": {
      "text/html": [
       "<div>\n",
       "<style scoped>\n",
       "    .dataframe tbody tr th:only-of-type {\n",
       "        vertical-align: middle;\n",
       "    }\n",
       "\n",
       "    .dataframe tbody tr th {\n",
       "        vertical-align: top;\n",
       "    }\n",
       "\n",
       "    .dataframe thead th {\n",
       "        text-align: right;\n",
       "    }\n",
       "</style>\n",
       "<table border=\"1\" class=\"dataframe\">\n",
       "  <thead>\n",
       "    <tr style=\"text-align: right;\">\n",
       "      <th></th>\n",
       "      <th>id</th>\n",
       "      <th>Age</th>\n",
       "      <th>Hotel wifi service</th>\n",
       "      <th>Departure/Arrival  convenience</th>\n",
       "      <th>Ease of Online booking</th>\n",
       "      <th>Hotel location</th>\n",
       "      <th>Food and drink</th>\n",
       "      <th>Stay comfort</th>\n",
       "      <th>Common Room entertainment</th>\n",
       "      <th>Checkin/Checkout service</th>\n",
       "      <th>...</th>\n",
       "      <th>Cleanliness</th>\n",
       "      <th>satisfaction</th>\n",
       "      <th>Gender_Male</th>\n",
       "      <th>purpose_of_travel_aviation</th>\n",
       "      <th>purpose_of_travel_business</th>\n",
       "      <th>purpose_of_travel_personal</th>\n",
       "      <th>purpose_of_travel_tourism</th>\n",
       "      <th>Type of Travel_Personal Travel</th>\n",
       "      <th>Type Of Booking_Individual/Couple</th>\n",
       "      <th>Type Of Booking_Not defined</th>\n",
       "    </tr>\n",
       "  </thead>\n",
       "  <tbody>\n",
       "    <tr>\n",
       "      <th>count</th>\n",
       "      <td>103904.000000</td>\n",
       "      <td>103904.000000</td>\n",
       "      <td>103904.000000</td>\n",
       "      <td>103904.000000</td>\n",
       "      <td>103904.000000</td>\n",
       "      <td>103904.000000</td>\n",
       "      <td>103904.000000</td>\n",
       "      <td>103904.000000</td>\n",
       "      <td>103904.000000</td>\n",
       "      <td>103904.000000</td>\n",
       "      <td>...</td>\n",
       "      <td>103904.000000</td>\n",
       "      <td>103904.000000</td>\n",
       "      <td>103904.000000</td>\n",
       "      <td>103904.000000</td>\n",
       "      <td>103904.000000</td>\n",
       "      <td>103904.000000</td>\n",
       "      <td>103904.000000</td>\n",
       "      <td>103904.000000</td>\n",
       "      <td>103904.000000</td>\n",
       "      <td>103904.000000</td>\n",
       "    </tr>\n",
       "    <tr>\n",
       "      <th>mean</th>\n",
       "      <td>64924.210502</td>\n",
       "      <td>39.379706</td>\n",
       "      <td>2.729683</td>\n",
       "      <td>3.060296</td>\n",
       "      <td>2.756901</td>\n",
       "      <td>2.976883</td>\n",
       "      <td>3.202129</td>\n",
       "      <td>3.439396</td>\n",
       "      <td>3.358158</td>\n",
       "      <td>3.304290</td>\n",
       "      <td>...</td>\n",
       "      <td>3.286351</td>\n",
       "      <td>0.433333</td>\n",
       "      <td>0.492541</td>\n",
       "      <td>0.133258</td>\n",
       "      <td>0.204400</td>\n",
       "      <td>0.091893</td>\n",
       "      <td>0.308487</td>\n",
       "      <td>0.310373</td>\n",
       "      <td>0.449886</td>\n",
       "      <td>0.072124</td>\n",
       "    </tr>\n",
       "    <tr>\n",
       "      <th>std</th>\n",
       "      <td>37463.812252</td>\n",
       "      <td>15.114964</td>\n",
       "      <td>1.327829</td>\n",
       "      <td>1.525075</td>\n",
       "      <td>1.398929</td>\n",
       "      <td>1.277621</td>\n",
       "      <td>1.329533</td>\n",
       "      <td>1.319088</td>\n",
       "      <td>1.332991</td>\n",
       "      <td>1.265396</td>\n",
       "      <td>...</td>\n",
       "      <td>1.312273</td>\n",
       "      <td>0.495538</td>\n",
       "      <td>0.499947</td>\n",
       "      <td>0.339855</td>\n",
       "      <td>0.403265</td>\n",
       "      <td>0.288876</td>\n",
       "      <td>0.461871</td>\n",
       "      <td>0.462649</td>\n",
       "      <td>0.497485</td>\n",
       "      <td>0.258695</td>\n",
       "    </tr>\n",
       "    <tr>\n",
       "      <th>min</th>\n",
       "      <td>1.000000</td>\n",
       "      <td>7.000000</td>\n",
       "      <td>0.000000</td>\n",
       "      <td>0.000000</td>\n",
       "      <td>0.000000</td>\n",
       "      <td>0.000000</td>\n",
       "      <td>0.000000</td>\n",
       "      <td>0.000000</td>\n",
       "      <td>0.000000</td>\n",
       "      <td>0.000000</td>\n",
       "      <td>...</td>\n",
       "      <td>0.000000</td>\n",
       "      <td>0.000000</td>\n",
       "      <td>0.000000</td>\n",
       "      <td>0.000000</td>\n",
       "      <td>0.000000</td>\n",
       "      <td>0.000000</td>\n",
       "      <td>0.000000</td>\n",
       "      <td>0.000000</td>\n",
       "      <td>0.000000</td>\n",
       "      <td>0.000000</td>\n",
       "    </tr>\n",
       "    <tr>\n",
       "      <th>25%</th>\n",
       "      <td>32533.750000</td>\n",
       "      <td>27.000000</td>\n",
       "      <td>2.000000</td>\n",
       "      <td>2.000000</td>\n",
       "      <td>2.000000</td>\n",
       "      <td>2.000000</td>\n",
       "      <td>2.000000</td>\n",
       "      <td>2.000000</td>\n",
       "      <td>2.000000</td>\n",
       "      <td>3.000000</td>\n",
       "      <td>...</td>\n",
       "      <td>2.000000</td>\n",
       "      <td>0.000000</td>\n",
       "      <td>0.000000</td>\n",
       "      <td>0.000000</td>\n",
       "      <td>0.000000</td>\n",
       "      <td>0.000000</td>\n",
       "      <td>0.000000</td>\n",
       "      <td>0.000000</td>\n",
       "      <td>0.000000</td>\n",
       "      <td>0.000000</td>\n",
       "    </tr>\n",
       "    <tr>\n",
       "      <th>50%</th>\n",
       "      <td>64856.500000</td>\n",
       "      <td>40.000000</td>\n",
       "      <td>3.000000</td>\n",
       "      <td>3.000000</td>\n",
       "      <td>3.000000</td>\n",
       "      <td>3.000000</td>\n",
       "      <td>3.000000</td>\n",
       "      <td>4.000000</td>\n",
       "      <td>4.000000</td>\n",
       "      <td>3.000000</td>\n",
       "      <td>...</td>\n",
       "      <td>3.000000</td>\n",
       "      <td>0.000000</td>\n",
       "      <td>0.000000</td>\n",
       "      <td>0.000000</td>\n",
       "      <td>0.000000</td>\n",
       "      <td>0.000000</td>\n",
       "      <td>0.000000</td>\n",
       "      <td>0.000000</td>\n",
       "      <td>0.000000</td>\n",
       "      <td>0.000000</td>\n",
       "    </tr>\n",
       "    <tr>\n",
       "      <th>75%</th>\n",
       "      <td>97368.250000</td>\n",
       "      <td>51.000000</td>\n",
       "      <td>4.000000</td>\n",
       "      <td>4.000000</td>\n",
       "      <td>4.000000</td>\n",
       "      <td>4.000000</td>\n",
       "      <td>4.000000</td>\n",
       "      <td>5.000000</td>\n",
       "      <td>4.000000</td>\n",
       "      <td>4.000000</td>\n",
       "      <td>...</td>\n",
       "      <td>4.000000</td>\n",
       "      <td>1.000000</td>\n",
       "      <td>1.000000</td>\n",
       "      <td>0.000000</td>\n",
       "      <td>0.000000</td>\n",
       "      <td>0.000000</td>\n",
       "      <td>1.000000</td>\n",
       "      <td>1.000000</td>\n",
       "      <td>1.000000</td>\n",
       "      <td>0.000000</td>\n",
       "    </tr>\n",
       "    <tr>\n",
       "      <th>max</th>\n",
       "      <td>129880.000000</td>\n",
       "      <td>85.000000</td>\n",
       "      <td>5.000000</td>\n",
       "      <td>5.000000</td>\n",
       "      <td>5.000000</td>\n",
       "      <td>5.000000</td>\n",
       "      <td>5.000000</td>\n",
       "      <td>5.000000</td>\n",
       "      <td>5.000000</td>\n",
       "      <td>5.000000</td>\n",
       "      <td>...</td>\n",
       "      <td>5.000000</td>\n",
       "      <td>1.000000</td>\n",
       "      <td>1.000000</td>\n",
       "      <td>1.000000</td>\n",
       "      <td>1.000000</td>\n",
       "      <td>1.000000</td>\n",
       "      <td>1.000000</td>\n",
       "      <td>1.000000</td>\n",
       "      <td>1.000000</td>\n",
       "      <td>1.000000</td>\n",
       "    </tr>\n",
       "  </tbody>\n",
       "</table>\n",
       "<p>8 rows × 21 columns</p>\n",
       "</div>"
      ],
      "text/plain": [
       "                  id            Age  Hotel wifi service  \\\n",
       "count  103904.000000  103904.000000       103904.000000   \n",
       "mean    64924.210502      39.379706            2.729683   \n",
       "std     37463.812252      15.114964            1.327829   \n",
       "min         1.000000       7.000000            0.000000   \n",
       "25%     32533.750000      27.000000            2.000000   \n",
       "50%     64856.500000      40.000000            3.000000   \n",
       "75%     97368.250000      51.000000            4.000000   \n",
       "max    129880.000000      85.000000            5.000000   \n",
       "\n",
       "       Departure/Arrival  convenience  Ease of Online booking  Hotel location  \\\n",
       "count                   103904.000000           103904.000000   103904.000000   \n",
       "mean                         3.060296                2.756901        2.976883   \n",
       "std                          1.525075                1.398929        1.277621   \n",
       "min                          0.000000                0.000000        0.000000   \n",
       "25%                          2.000000                2.000000        2.000000   \n",
       "50%                          3.000000                3.000000        3.000000   \n",
       "75%                          4.000000                4.000000        4.000000   \n",
       "max                          5.000000                5.000000        5.000000   \n",
       "\n",
       "       Food and drink   Stay comfort  Common Room entertainment  \\\n",
       "count   103904.000000  103904.000000              103904.000000   \n",
       "mean         3.202129       3.439396                   3.358158   \n",
       "std          1.329533       1.319088                   1.332991   \n",
       "min          0.000000       0.000000                   0.000000   \n",
       "25%          2.000000       2.000000                   2.000000   \n",
       "50%          3.000000       4.000000                   4.000000   \n",
       "75%          4.000000       5.000000                   4.000000   \n",
       "max          5.000000       5.000000                   5.000000   \n",
       "\n",
       "       Checkin/Checkout service  ...    Cleanliness   satisfaction  \\\n",
       "count             103904.000000  ...  103904.000000  103904.000000   \n",
       "mean                   3.304290  ...       3.286351       0.433333   \n",
       "std                    1.265396  ...       1.312273       0.495538   \n",
       "min                    0.000000  ...       0.000000       0.000000   \n",
       "25%                    3.000000  ...       2.000000       0.000000   \n",
       "50%                    3.000000  ...       3.000000       0.000000   \n",
       "75%                    4.000000  ...       4.000000       1.000000   \n",
       "max                    5.000000  ...       5.000000       1.000000   \n",
       "\n",
       "         Gender_Male  purpose_of_travel_aviation  purpose_of_travel_business  \\\n",
       "count  103904.000000               103904.000000               103904.000000   \n",
       "mean        0.492541                    0.133258                    0.204400   \n",
       "std         0.499947                    0.339855                    0.403265   \n",
       "min         0.000000                    0.000000                    0.000000   \n",
       "25%         0.000000                    0.000000                    0.000000   \n",
       "50%         0.000000                    0.000000                    0.000000   \n",
       "75%         1.000000                    0.000000                    0.000000   \n",
       "max         1.000000                    1.000000                    1.000000   \n",
       "\n",
       "       purpose_of_travel_personal  purpose_of_travel_tourism  \\\n",
       "count               103904.000000              103904.000000   \n",
       "mean                     0.091893                   0.308487   \n",
       "std                      0.288876                   0.461871   \n",
       "min                      0.000000                   0.000000   \n",
       "25%                      0.000000                   0.000000   \n",
       "50%                      0.000000                   0.000000   \n",
       "75%                      0.000000                   1.000000   \n",
       "max                      1.000000                   1.000000   \n",
       "\n",
       "       Type of Travel_Personal Travel  Type Of Booking_Individual/Couple  \\\n",
       "count                   103904.000000                      103904.000000   \n",
       "mean                         0.310373                           0.449886   \n",
       "std                          0.462649                           0.497485   \n",
       "min                          0.000000                           0.000000   \n",
       "25%                          0.000000                           0.000000   \n",
       "50%                          0.000000                           0.000000   \n",
       "75%                          1.000000                           1.000000   \n",
       "max                          1.000000                           1.000000   \n",
       "\n",
       "       Type Of Booking_Not defined  \n",
       "count                103904.000000  \n",
       "mean                      0.072124  \n",
       "std                       0.258695  \n",
       "min                       0.000000  \n",
       "25%                       0.000000  \n",
       "50%                       0.000000  \n",
       "75%                       0.000000  \n",
       "max                       1.000000  \n",
       "\n",
       "[8 rows x 21 columns]"
      ]
     },
     "execution_count": 31,
     "metadata": {},
     "output_type": "execute_result"
    }
   ],
   "source": [
    "eurohotels4.describe()"
   ]
  },
  {
   "cell_type": "code",
   "execution_count": 32,
   "id": "6fe6c604",
   "metadata": {},
   "outputs": [],
   "source": [
    "NewGuy2 = pd.DataFrame([{'Age':99, 'Hotel wifi service':-1, 'Departure/Arrival  convenience':6,\n",
    "                        'Ease of Online booking':7, 'Hotel location':3, 'Food and drink':4,\n",
    "                        'Stay comfort':0, 'Common Room entertainment':10, 'Checkin/Checkout service':7,\n",
    "                        'Other service':0, 'Cleanliness':4, 'Gender_Male':1,\n",
    "                        'purpose_of_travel_aviation':0, 'purpose_of_travel_business':0,\n",
    "                        'purpose_of_travel_personal':0, 'purpose_of_travel_tourism':1,\n",
    "                        'Type of Travel_Personal Travel':0, 'Type Of Booking_Individual/Couple':1,\n",
    "                        'Type Of Booking_Not defined':0}])"
   ]
  },
  {
   "cell_type": "code",
   "execution_count": 33,
   "id": "e068eb20",
   "metadata": {},
   "outputs": [
    {
     "data": {
      "text/plain": [
       "array([1])"
      ]
     },
     "execution_count": 33,
     "metadata": {},
     "output_type": "execute_result"
    }
   ],
   "source": [
    "prediction = logmodel2.predict(NewGuy2)\n",
    "prediction"
   ]
  },
  {
   "cell_type": "markdown",
   "id": "ce340cc0",
   "metadata": {},
   "source": [
    "For this new dataframe prediction I made a few of the numeric variables outside of the original data set ranges. I made age 99, when the highest age was 85, as well as making some of the rating variables outside of the range of 0-5. What's interesting is that I set the hotel wifi service as a -1, which you'd expect to make the model give a 0 prediction. However, with other rating variables extremely high and outside of the range, like common room entertainment being a 10, this offset the model and it predicted a satisfied outcome."
   ]
  },
  {
   "cell_type": "markdown",
   "id": "38b78a74",
   "metadata": {},
   "source": [
    "# Part II"
   ]
  },
  {
   "cell_type": "markdown",
   "id": "99ac6c5d",
   "metadata": {},
   "source": [
    "M"
   ]
  },
  {
   "cell_type": "code",
   "execution_count": 34,
   "id": "c4ba900d",
   "metadata": {},
   "outputs": [
    {
     "data": {
      "text/html": [
       "<div>\n",
       "<style scoped>\n",
       "    .dataframe tbody tr th:only-of-type {\n",
       "        vertical-align: middle;\n",
       "    }\n",
       "\n",
       "    .dataframe tbody tr th {\n",
       "        vertical-align: top;\n",
       "    }\n",
       "\n",
       "    .dataframe thead th {\n",
       "        text-align: right;\n",
       "    }\n",
       "</style>\n",
       "<table border=\"1\" class=\"dataframe\">\n",
       "  <thead>\n",
       "    <tr style=\"text-align: right;\">\n",
       "      <th></th>\n",
       "      <th>id</th>\n",
       "      <th>Gender</th>\n",
       "      <th>Age</th>\n",
       "      <th>purpose_of_travel</th>\n",
       "      <th>Type of Travel</th>\n",
       "      <th>Type Of Booking</th>\n",
       "      <th>Hotel wifi service</th>\n",
       "      <th>Departure/Arrival  convenience</th>\n",
       "      <th>Ease of Online booking</th>\n",
       "      <th>Hotel location</th>\n",
       "      <th>Food and drink</th>\n",
       "      <th>Stay comfort</th>\n",
       "      <th>Common Room entertainment</th>\n",
       "      <th>Checkin/Checkout service</th>\n",
       "      <th>Other service</th>\n",
       "      <th>Cleanliness</th>\n",
       "      <th>satisfaction</th>\n",
       "    </tr>\n",
       "  </thead>\n",
       "  <tbody>\n",
       "    <tr>\n",
       "      <th>0</th>\n",
       "      <td>70172</td>\n",
       "      <td>Male</td>\n",
       "      <td>13</td>\n",
       "      <td>aviation</td>\n",
       "      <td>Personal Travel</td>\n",
       "      <td>Not defined</td>\n",
       "      <td>3</td>\n",
       "      <td>4</td>\n",
       "      <td>3</td>\n",
       "      <td>1</td>\n",
       "      <td>5</td>\n",
       "      <td>5</td>\n",
       "      <td>5</td>\n",
       "      <td>4</td>\n",
       "      <td>5</td>\n",
       "      <td>5</td>\n",
       "      <td>neutral or dissatisfied</td>\n",
       "    </tr>\n",
       "    <tr>\n",
       "      <th>1</th>\n",
       "      <td>5047</td>\n",
       "      <td>Male</td>\n",
       "      <td>25</td>\n",
       "      <td>tourism</td>\n",
       "      <td>Group Travel</td>\n",
       "      <td>Group bookings</td>\n",
       "      <td>3</td>\n",
       "      <td>2</td>\n",
       "      <td>3</td>\n",
       "      <td>3</td>\n",
       "      <td>1</td>\n",
       "      <td>1</td>\n",
       "      <td>1</td>\n",
       "      <td>1</td>\n",
       "      <td>4</td>\n",
       "      <td>1</td>\n",
       "      <td>neutral or dissatisfied</td>\n",
       "    </tr>\n",
       "    <tr>\n",
       "      <th>2</th>\n",
       "      <td>110028</td>\n",
       "      <td>Female</td>\n",
       "      <td>26</td>\n",
       "      <td>tourism</td>\n",
       "      <td>Group Travel</td>\n",
       "      <td>Group bookings</td>\n",
       "      <td>2</td>\n",
       "      <td>2</td>\n",
       "      <td>2</td>\n",
       "      <td>2</td>\n",
       "      <td>5</td>\n",
       "      <td>5</td>\n",
       "      <td>5</td>\n",
       "      <td>4</td>\n",
       "      <td>4</td>\n",
       "      <td>5</td>\n",
       "      <td>satisfied</td>\n",
       "    </tr>\n",
       "    <tr>\n",
       "      <th>3</th>\n",
       "      <td>24026</td>\n",
       "      <td>Female</td>\n",
       "      <td>25</td>\n",
       "      <td>tourism</td>\n",
       "      <td>Group Travel</td>\n",
       "      <td>Group bookings</td>\n",
       "      <td>2</td>\n",
       "      <td>5</td>\n",
       "      <td>5</td>\n",
       "      <td>5</td>\n",
       "      <td>2</td>\n",
       "      <td>2</td>\n",
       "      <td>2</td>\n",
       "      <td>1</td>\n",
       "      <td>4</td>\n",
       "      <td>2</td>\n",
       "      <td>neutral or dissatisfied</td>\n",
       "    </tr>\n",
       "    <tr>\n",
       "      <th>4</th>\n",
       "      <td>119299</td>\n",
       "      <td>Male</td>\n",
       "      <td>61</td>\n",
       "      <td>aviation</td>\n",
       "      <td>Group Travel</td>\n",
       "      <td>Group bookings</td>\n",
       "      <td>3</td>\n",
       "      <td>3</td>\n",
       "      <td>3</td>\n",
       "      <td>3</td>\n",
       "      <td>4</td>\n",
       "      <td>5</td>\n",
       "      <td>3</td>\n",
       "      <td>3</td>\n",
       "      <td>3</td>\n",
       "      <td>3</td>\n",
       "      <td>satisfied</td>\n",
       "    </tr>\n",
       "  </tbody>\n",
       "</table>\n",
       "</div>"
      ],
      "text/plain": [
       "       id  Gender  Age purpose_of_travel   Type of Travel Type Of Booking  \\\n",
       "0   70172    Male   13          aviation  Personal Travel     Not defined   \n",
       "1    5047    Male   25           tourism     Group Travel  Group bookings   \n",
       "2  110028  Female   26           tourism     Group Travel  Group bookings   \n",
       "3   24026  Female   25           tourism     Group Travel  Group bookings   \n",
       "4  119299    Male   61          aviation     Group Travel  Group bookings   \n",
       "\n",
       "   Hotel wifi service  Departure/Arrival  convenience  Ease of Online booking  \\\n",
       "0                   3                               4                       3   \n",
       "1                   3                               2                       3   \n",
       "2                   2                               2                       2   \n",
       "3                   2                               5                       5   \n",
       "4                   3                               3                       3   \n",
       "\n",
       "   Hotel location  Food and drink  Stay comfort  Common Room entertainment  \\\n",
       "0               1               5             5                          5   \n",
       "1               3               1             1                          1   \n",
       "2               2               5             5                          5   \n",
       "3               5               2             2                          2   \n",
       "4               3               4             5                          3   \n",
       "\n",
       "   Checkin/Checkout service  Other service  Cleanliness  \\\n",
       "0                         4              5            5   \n",
       "1                         1              4            1   \n",
       "2                         4              4            5   \n",
       "3                         1              4            2   \n",
       "4                         3              3            3   \n",
       "\n",
       "              satisfaction  \n",
       "0  neutral or dissatisfied  \n",
       "1  neutral or dissatisfied  \n",
       "2                satisfied  \n",
       "3  neutral or dissatisfied  \n",
       "4                satisfied  "
      ]
     },
     "execution_count": 34,
     "metadata": {},
     "output_type": "execute_result"
    }
   ],
   "source": [
    "eurohotels = pd.read_csv(\"euro_hotels.csv\")\n",
    "eurohotels.head()"
   ]
  },
  {
   "cell_type": "code",
   "execution_count": 35,
   "id": "9792d49d",
   "metadata": {},
   "outputs": [],
   "source": [
    "le.fit(eurohotels['satisfaction'])\n",
    "satisfaction = le.transform(eurohotels['satisfaction'])\n",
    "eurohotels['satisfaction'] = satisfaction"
   ]
  },
  {
   "cell_type": "code",
   "execution_count": 36,
   "id": "083712fd",
   "metadata": {},
   "outputs": [],
   "source": [
    "eurohotels = pd.get_dummies(eurohotels, \n",
    "                            columns=['Gender', 'purpose_of_travel', 'Type of Travel','Type Of Booking'])"
   ]
  },
  {
   "cell_type": "markdown",
   "id": "00dde23c",
   "metadata": {},
   "source": [
    "N"
   ]
  },
  {
   "cell_type": "code",
   "execution_count": 37,
   "id": "12a7d959",
   "metadata": {},
   "outputs": [],
   "source": [
    "X = eurohotels[['Age', 'Hotel wifi service', 'Departure/Arrival  convenience',\n",
    "       'Ease of Online booking', 'Hotel location', 'Food and drink',\n",
    "       'Stay comfort', 'Common Room entertainment', 'Checkin/Checkout service',\n",
    "       'Other service', 'Cleanliness', 'Gender_Male',\n",
    "       'purpose_of_travel_aviation', 'purpose_of_travel_business',\n",
    "       'purpose_of_travel_personal', 'purpose_of_travel_tourism',\n",
    "       'Type of Travel_Personal Travel', 'Type Of Booking_Individual/Couple',\n",
    "       'Type Of Booking_Not defined']]\n",
    "y = satisfaction"
   ]
  },
  {
   "cell_type": "code",
   "execution_count": 38,
   "id": "1aacd8f7",
   "metadata": {},
   "outputs": [],
   "source": [
    "X_train, X_test, y_train, y_test = train_test_split(X, y, test_size=0.4, random_state=426)"
   ]
  },
  {
   "cell_type": "markdown",
   "id": "5a0fe03b",
   "metadata": {},
   "source": [
    "O"
   ]
  },
  {
   "cell_type": "code",
   "execution_count": 39,
   "id": "0f8383d8",
   "metadata": {},
   "outputs": [],
   "source": [
    "from sklearn.ensemble import RandomForestClassifier"
   ]
  },
  {
   "cell_type": "code",
   "execution_count": 40,
   "id": "68ad5eb7",
   "metadata": {},
   "outputs": [
    {
     "data": {
      "text/plain": [
       "RandomForestClassifier()"
      ]
     },
     "execution_count": 40,
     "metadata": {},
     "output_type": "execute_result"
    }
   ],
   "source": [
    "clf=RandomForestClassifier()\n",
    "clf.fit(X_train,y_train)"
   ]
  },
  {
   "cell_type": "code",
   "execution_count": 41,
   "id": "3a97ce7e",
   "metadata": {},
   "outputs": [
    {
     "data": {
      "text/plain": [
       "{'bootstrap': True,\n",
       " 'ccp_alpha': 0.0,\n",
       " 'class_weight': None,\n",
       " 'criterion': 'gini',\n",
       " 'max_depth': None,\n",
       " 'max_features': 'auto',\n",
       " 'max_leaf_nodes': None,\n",
       " 'max_samples': None,\n",
       " 'min_impurity_decrease': 0.0,\n",
       " 'min_impurity_split': None,\n",
       " 'min_samples_leaf': 1,\n",
       " 'min_samples_split': 2,\n",
       " 'min_weight_fraction_leaf': 0.0,\n",
       " 'n_estimators': 100,\n",
       " 'n_jobs': None,\n",
       " 'oob_score': False,\n",
       " 'random_state': None,\n",
       " 'verbose': 0,\n",
       " 'warm_start': False}"
      ]
     },
     "execution_count": 41,
     "metadata": {},
     "output_type": "execute_result"
    }
   ],
   "source": [
    "clf.get_params()"
   ]
  },
  {
   "cell_type": "code",
   "execution_count": 42,
   "id": "0af8a000",
   "metadata": {},
   "outputs": [],
   "source": [
    "param_grid = {\n",
    "    'n_estimators': [50,100],\n",
    "    'max_depth': [2,4,8],\n",
    "    'max_features': [1,2,4,8],\n",
    "    'min_samples_leaf': [1,2,4],\n",
    "}"
   ]
  },
  {
   "cell_type": "code",
   "execution_count": 43,
   "id": "5782225d",
   "metadata": {},
   "outputs": [
    {
     "name": "stdout",
     "output_type": "stream",
     "text": [
      "{'max_depth': 8, 'max_features': 8, 'min_samples_leaf': 2, 'n_estimators': 100}\n"
     ]
    }
   ],
   "source": [
    "from sklearn.model_selection import GridSearchCV\n",
    "\n",
    "CV_rfc = GridSearchCV(estimator = clf, param_grid = param_grid, cv = 5)\n",
    "CV_rfc.fit(X_train, y_train)\n",
    "print(CV_rfc.best_params_)"
   ]
  },
  {
   "cell_type": "code",
   "execution_count": 45,
   "id": "15751d1f",
   "metadata": {},
   "outputs": [
    {
     "data": {
      "text/plain": [
       "RandomForestClassifier(max_depth=8, max_features=8, min_samples_leaf=2,\n",
       "                       random_state=426)"
      ]
     },
     "execution_count": 45,
     "metadata": {},
     "output_type": "execute_result"
    }
   ],
   "source": [
    "clf=RandomForestClassifier(n_estimators = 100, max_depth = 8, max_features = 8, min_samples_leaf = 2, random_state = 426)\n",
    "clf.fit(X_train,y_train)"
   ]
  },
  {
   "cell_type": "markdown",
   "id": "af517e76",
   "metadata": {},
   "source": [
    "P"
   ]
  },
  {
   "cell_type": "code",
   "execution_count": 46,
   "id": "fa6123e3",
   "metadata": {},
   "outputs": [
    {
     "data": {
      "text/html": [
       "<div>\n",
       "<style scoped>\n",
       "    .dataframe tbody tr th:only-of-type {\n",
       "        vertical-align: middle;\n",
       "    }\n",
       "\n",
       "    .dataframe tbody tr th {\n",
       "        vertical-align: top;\n",
       "    }\n",
       "\n",
       "    .dataframe thead th {\n",
       "        text-align: right;\n",
       "    }\n",
       "</style>\n",
       "<table border=\"1\" class=\"dataframe\">\n",
       "  <thead>\n",
       "    <tr style=\"text-align: right;\">\n",
       "      <th></th>\n",
       "      <th>feature importance</th>\n",
       "      <th>feature</th>\n",
       "    </tr>\n",
       "  </thead>\n",
       "  <tbody>\n",
       "    <tr>\n",
       "      <th>1</th>\n",
       "      <td>0.254001</td>\n",
       "      <td>Hotel wifi service</td>\n",
       "    </tr>\n",
       "    <tr>\n",
       "      <th>17</th>\n",
       "      <td>0.186478</td>\n",
       "      <td>Type Of Booking_Individual/Couple</td>\n",
       "    </tr>\n",
       "    <tr>\n",
       "      <th>16</th>\n",
       "      <td>0.161095</td>\n",
       "      <td>Type of Travel_Personal Travel</td>\n",
       "    </tr>\n",
       "    <tr>\n",
       "      <th>7</th>\n",
       "      <td>0.141485</td>\n",
       "      <td>Common Room entertainment</td>\n",
       "    </tr>\n",
       "    <tr>\n",
       "      <th>6</th>\n",
       "      <td>0.082202</td>\n",
       "      <td>Stay comfort</td>\n",
       "    </tr>\n",
       "    <tr>\n",
       "      <th>3</th>\n",
       "      <td>0.048232</td>\n",
       "      <td>Ease of Online booking</td>\n",
       "    </tr>\n",
       "    <tr>\n",
       "      <th>10</th>\n",
       "      <td>0.028151</td>\n",
       "      <td>Cleanliness</td>\n",
       "    </tr>\n",
       "    <tr>\n",
       "      <th>9</th>\n",
       "      <td>0.023895</td>\n",
       "      <td>Other service</td>\n",
       "    </tr>\n",
       "    <tr>\n",
       "      <th>8</th>\n",
       "      <td>0.021773</td>\n",
       "      <td>Checkin/Checkout service</td>\n",
       "    </tr>\n",
       "    <tr>\n",
       "      <th>0</th>\n",
       "      <td>0.014059</td>\n",
       "      <td>Age</td>\n",
       "    </tr>\n",
       "    <tr>\n",
       "      <th>4</th>\n",
       "      <td>0.012611</td>\n",
       "      <td>Hotel location</td>\n",
       "    </tr>\n",
       "    <tr>\n",
       "      <th>2</th>\n",
       "      <td>0.011589</td>\n",
       "      <td>Departure/Arrival  convenience</td>\n",
       "    </tr>\n",
       "    <tr>\n",
       "      <th>18</th>\n",
       "      <td>0.009295</td>\n",
       "      <td>Type Of Booking_Not defined</td>\n",
       "    </tr>\n",
       "    <tr>\n",
       "      <th>5</th>\n",
       "      <td>0.004482</td>\n",
       "      <td>Food and drink</td>\n",
       "    </tr>\n",
       "    <tr>\n",
       "      <th>11</th>\n",
       "      <td>0.000225</td>\n",
       "      <td>Gender_Male</td>\n",
       "    </tr>\n",
       "    <tr>\n",
       "      <th>15</th>\n",
       "      <td>0.000126</td>\n",
       "      <td>purpose_of_travel_tourism</td>\n",
       "    </tr>\n",
       "    <tr>\n",
       "      <th>12</th>\n",
       "      <td>0.000117</td>\n",
       "      <td>purpose_of_travel_aviation</td>\n",
       "    </tr>\n",
       "    <tr>\n",
       "      <th>13</th>\n",
       "      <td>0.000101</td>\n",
       "      <td>purpose_of_travel_business</td>\n",
       "    </tr>\n",
       "    <tr>\n",
       "      <th>14</th>\n",
       "      <td>0.000084</td>\n",
       "      <td>purpose_of_travel_personal</td>\n",
       "    </tr>\n",
       "  </tbody>\n",
       "</table>\n",
       "</div>"
      ],
      "text/plain": [
       "    feature importance                            feature\n",
       "1             0.254001                 Hotel wifi service\n",
       "17            0.186478  Type Of Booking_Individual/Couple\n",
       "16            0.161095     Type of Travel_Personal Travel\n",
       "7             0.141485          Common Room entertainment\n",
       "6             0.082202                       Stay comfort\n",
       "3             0.048232             Ease of Online booking\n",
       "10            0.028151                        Cleanliness\n",
       "9             0.023895                      Other service\n",
       "8             0.021773           Checkin/Checkout service\n",
       "0             0.014059                                Age\n",
       "4             0.012611                     Hotel location\n",
       "2             0.011589     Departure/Arrival  convenience\n",
       "18            0.009295        Type Of Booking_Not defined\n",
       "5             0.004482                     Food and drink\n",
       "11            0.000225                        Gender_Male\n",
       "15            0.000126          purpose_of_travel_tourism\n",
       "12            0.000117         purpose_of_travel_aviation\n",
       "13            0.000101         purpose_of_travel_business\n",
       "14            0.000084         purpose_of_travel_personal"
      ]
     },
     "execution_count": 46,
     "metadata": {},
     "output_type": "execute_result"
    }
   ],
   "source": [
    "feature_imp_df = pd.DataFrame(list(zip(clf.feature_importances_, X_train)))\n",
    "feature_imp_df.columns = ['feature importance', 'feature']\n",
    "feature_imp_df = feature_imp_df.sort_values(by='feature importance', ascending=False)\n",
    "feature_imp_df"
   ]
  },
  {
   "cell_type": "markdown",
   "id": "4d30daef",
   "metadata": {},
   "source": [
    "Hotel wifi is still the largest predictor of satisfaction in the model, with types of booking and travel coming after that. This is slightly different from the log regression model. Wifi service was still the top in the model, but the other predictors were in a very different order."
   ]
  },
  {
   "cell_type": "markdown",
   "id": "2d58f7b4",
   "metadata": {},
   "source": [
    "Q"
   ]
  },
  {
   "cell_type": "code",
   "execution_count": 47,
   "id": "c52115ba",
   "metadata": {},
   "outputs": [
    {
     "data": {
      "image/png": "[encoded data removed]",
      "text/plain": [
       "<Figure size 432x288 with 1 Axes>"
      ]
     },
     "metadata": {
      "needs_background": "light"
     },
     "output_type": "display_data"
    }
   ],
   "source": [
    "%matplotlib inline\n",
    "import matplotlib.pyplot as plt\n",
    "import seaborn as sns\n",
    "from sklearn.metrics import confusion_matrix\n",
    "predictions = clf.predict(X_test)\n",
    "mat = confusion_matrix(predictions, y_test)\n",
    "sns.heatmap(mat, square=True, annot=True, cbar=False, fmt='g')\n",
    "plt.xlabel(\"Actual Result\")\n",
    "plt.ylabel(\"Predicted Result\")\n",
    "a, b = plt.ylim() \n",
    "a += 0.01 \n",
    "b -= 0.01 \n",
    "plt.ylim(a, b)\n",
    "plt.show() "
   ]
  },
  {
   "cell_type": "code",
   "execution_count": 48,
   "id": "46bb0ded",
   "metadata": {},
   "outputs": [
    {
     "name": "stdout",
     "output_type": "stream",
     "text": [
      "Accuracy: 0.9227659881622636\n",
      "Sensitivity: 0.9277397069474622\n",
      "Specificity: 0.9189853047050354\n",
      "Precision: 0.8969566388365203\n",
      "Balanced Accuracy: 0.9233625058262488\n"
     ]
    }
   ],
   "source": [
    "acc = (mat[0][0] + mat[1][1])/mat.sum()\n",
    "print(\"Accuracy:\",acc)\n",
    "\n",
    "sen = (mat[1][1])/(mat[1][1] + mat[0][1])\n",
    "print(\"Sensitivity:\",sen)\n",
    "\n",
    "spe = (mat[0][0])/(mat[0][0] + mat[1][0])\n",
    "print(\"Specificity:\",spe)\n",
    "\n",
    "pre = (mat[1][1])/(mat[1][0] + mat[1][1])\n",
    "print(\"Precision:\",pre)\n",
    "\n",
    "print(\"Balanced Accuracy:\",(sen + spe)/2)"
   ]
  },
  {
   "cell_type": "markdown",
   "id": "ec1086de",
   "metadata": {},
   "source": [
    "R"
   ]
  },
  {
   "cell_type": "code",
   "execution_count": 49,
   "id": "48daa152",
   "metadata": {},
   "outputs": [
    {
     "name": "stdout",
     "output_type": "stream",
     "text": [
      "Training Data Accuracy: 0.9248981425042507\n",
      "Test Data Accuracy: 0.9227659881622636\n"
     ]
    }
   ],
   "source": [
    "from sklearn import metrics\n",
    "\n",
    "predictions2 = clf.predict(X_train)\n",
    "\n",
    "print(\"Training Data Accuracy:\",metrics.accuracy_score(y_train, predictions2))\n",
    "print(\"Test Data Accuracy:\",metrics.accuracy_score(y_test, predictions))"
   ]
  },
  {
   "cell_type": "markdown",
   "id": "415614de",
   "metadata": {},
   "source": [
    "The model has almost the exact same accuracy with the test and the training data. It's worth noting that when no tuning the hyperparameters down to what I did, the model had higher accuracy on the test data (about 95%) and very high accuracy on the training data (99%), which means the non-tuned model was overfitting, but this one is likely not."
   ]
  },
  {
   "cell_type": "markdown",
   "id": "05e280c2",
   "metadata": {},
   "source": [
    "S"
   ]
  },
  {
   "cell_type": "code",
   "execution_count": 50,
   "id": "d78ab881",
   "metadata": {},
   "outputs": [
    {
     "data": {
      "text/plain": [
       "array([0])"
      ]
     },
     "execution_count": 50,
     "metadata": {},
     "output_type": "execute_result"
    }
   ],
   "source": [
    "prediction = clf.predict(NewGuy)\n",
    "prediction"
   ]
  },
  {
   "cell_type": "markdown",
   "id": "9b5d6c6c",
   "metadata": {},
   "source": [
    "The model does not think that the person will be satisfied. This falls in line with the log regression model prediction."
   ]
  },
  {
   "cell_type": "markdown",
   "id": "ad7f586b",
   "metadata": {},
   "source": [
    "T"
   ]
  },
  {
   "cell_type": "markdown",
   "id": "2832a722",
   "metadata": {},
   "source": [
    "Lobsterland may want care about what kinds of predictions this model makes because there could be carry over between what features satisfy guests at european hotels and what features will satisfy guests of a lobsterland hotel. Many of the same features that were high predictors in the above models could also be predictors for lobsterland, but not in all cases. A high wifi score could matter a lot to a business person traveling for work who needs to set up zoom calls out of their room. It's probably not as high of a predictor for families that aren't spending a lot of time in the room because they're in the park all day. Potentially higher predictors could be variables like Common Room Entertainment, Stay Comfort, and Hotel Location, because guests want to relax and watch a movie after a long day in the park and they don't want to spend a lot of time going to and from the hotel. It might be smart to model data on theme park hotel surveys, if there is any."
   ]
  }
 ],
 "metadata": {
  "kernelspec": {
   "display_name": "Python 3 (ipykernel)",
   "language": "python",
   "name": "python3"
  },
  "language_info": {
   "codemirror_mode": {
    "name": "ipython",
    "version": 3
   },
   "file_extension": ".py",
   "mimetype": "text/x-python",
   "name": "python",
   "nbconvert_exporter": "python",
   "pygments_lexer": "ipython3",
   "version": "3.9.7"
  }
 },
 "nbformat": 4,
 "nbformat_minor": 5
}
